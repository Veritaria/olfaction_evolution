{
 "cells": [
  {
   "cell_type": "code",
   "execution_count": 18,
   "metadata": {
    "collapsed": true
   },
   "outputs": [],
   "source": [
    "import os\n",
    "import numpy as np\n",
    "from collections import defaultdict\n",
    "import matplotlib.pyplot as plt\n",
    "from standard import analysis_pn2kc_training\n",
    "import tools\n",
    "import sys\n",
    "import seaborn as sns\n",
    "from pathlib import Path\n",
    "\n",
    "from pylab import rcParams\n",
    "# rcParams['figure.figsize'] = 3, 2\n",
    "# rcParams['font.size'] = 14\n",
    "# rcParams['axes.linewidth']=2\n",
    "rcParams['font.sans-serif'] = \"Arial\"\n",
    "rcParams['font.family'] = \"sans-serif\"\n",
    "rcParams['pdf.fonttype'] = 42\n",
    "rcParams['ps.fonttype'] = 42\n",
    "\n",
    "FIGSIZE = (1.6, 1.2)\n",
    "RECT = [0.3, 0.3, 0.65, 0.65]\n",
    "\n",
    "path = Path(os.getcwd())\n",
    "project_path = path.parent.absolute()\n",
    "figure_path = os.path.join(project_path, '_hemibrain', 'figures')\n",
    "hemibrain_path = os.path.join(project_path, '_hemibrain')\n",
    "sys.path.append(os.path.dirname(os.getcwd()))"
   ]
  },
  {
   "cell_type": "code",
   "execution_count": 19,
   "outputs": [],
   "source": [
    "def save_fig(save_path, figname='', dpi=1000, pdf=True, show=True):\n",
    "    os.makedirs(save_path, exist_ok=True)\n",
    "    plt.savefig(os.path.join(save_path, figname + '.png'),\n",
    "                dpi=dpi,\n",
    "                transparent=True)\n",
    "    if pdf:\n",
    "        plt.savefig(os.path.join(save_path, figname + '.pdf'), transparent=True)\n",
    "    if show:\n",
    "        plt.show()\n",
    "    print('Figure saved at: {}'.format(os.path.join(save_path, figname)))\n",
    "    plt.close()\n",
    "\n",
    "def pretty_fig(figsize=(3, 2), rect=(0.3, 0.3, 0.5, 0.5), rows=1, cols=1):\n",
    "    if rows > 1 or cols > 1:\n",
    "        f, ax = plt.subplots(nrows=rows, ncols=cols, figsize=figsize)\n",
    "        for a in ax:\n",
    "            plt.sca(a)\n",
    "            sns.despine()\n",
    "    else:\n",
    "        f = plt.figure(figsize=figsize)\n",
    "        ax = f.add_axes(rect)\n",
    "    sns.despine()\n",
    "    return f, ax\n",
    "\n",
    "def _plot_sparsity(ax,\n",
    "                   data,\n",
    "                   xrange=50,\n",
    "                   yrange=None,\n",
    "                   text=True,\n",
    "                   alpha=0.5,\n",
    "                   label=''):\n",
    "    plt.hist(data, bins=xrange, range=[0, xrange], density=True, align='left',\n",
    "             alpha=alpha, label=label)\n",
    "    xlabel = 'PN inputs per KC'\n",
    "    ax.set_xlabel(xlabel)\n",
    "    ax.set_ylabel('Fraction of KCs')\n",
    "\n",
    "    hist, _ = np.histogram(data, bins=xrange, range=[0, xrange],\n",
    "                           density=True)\n",
    "    vmax = np.max(hist)\n",
    "    if yrange is None:\n",
    "        if vmax > 0.5:\n",
    "            yrange = 1\n",
    "        elif vmax > 0.25:\n",
    "            yrange = 0.5\n",
    "        else:\n",
    "            yrange = 0.25\n",
    "\n",
    "    xticks = [0, 5, 15, 25, 50]\n",
    "    ax.set_xticks(xticks)\n",
    "    ax.set_yticks([0, yrange])\n",
    "    plt.ylim([0, yrange])\n",
    "    plt.xlim([-1, xrange])\n",
    "    if text:\n",
    "        plt.text(np.mean(data), vmax * 1.1, r'K = {:0.1f} ({:0.1f})'.format(\n",
    "            np.mean(data), np.std(data)))\n",
    "    else:\n",
    "        print(np.mean(data))\n",
    "\n",
    "    ax.spines[\"right\"].set_visible(False)\n",
    "    ax.spines[\"top\"].set_visible(False)\n",
    "    ax.xaxis.set_ticks_position('bottom')\n",
    "    ax.yaxis.set_ticks_position('left')\n"
   ],
   "metadata": {
    "collapsed": false,
    "pycharm": {
     "name": "#%%\n"
    }
   }
  },
  {
   "cell_type": "markdown",
   "source": [
    "Load data from standard model"
   ],
   "metadata": {
    "collapsed": false,
    "pycharm": {
     "name": "#%% md\n"
    }
   }
  },
  {
   "cell_type": "code",
   "execution_count": 26,
   "outputs": [],
   "source": [
    "model_path = os.path.join(project_path, 'files', 'receptor_standard')\n",
    "modeldirs = tools.get_modeldirs(model_path)\n",
    "modeldir = modeldirs[0]\n",
    "model_name = tools.get_model_name(modeldir)\n",
    "config = tools.load_config(modeldir)\n",
    "\n",
    "w = tools.load_pickles(modeldir, 'w_glo')[0]\n",
    "w[np.isnan(w)] = 0\n",
    "model_weights = w.flatten()\n",
    "model_k = np.count_nonzero(w > config.kc_prune_threshold, axis=0)"
   ],
   "metadata": {
    "collapsed": false,
    "pycharm": {
     "name": "#%%\n"
    }
   }
  },
  {
   "cell_type": "markdown",
   "source": [
    "Load data from hemibrain"
   ],
   "metadata": {
    "collapsed": false,
    "pycharm": {
     "name": "#%% md\n"
    }
   }
  },
  {
   "cell_type": "code",
   "execution_count": 27,
   "outputs": [],
   "source": [
    "hemibrain_k_path = os.path.join(project_path, '_hemibrain', 'K.npy')\n",
    "hemibrain_weights_path = os.path.join(project_path,\n",
    "                                      '_hemibrain',\n",
    "                                      'PN2KC_weight''.npy')\n",
    "\n",
    "hemibrain_k = np.load(hemibrain_k_path)\n",
    "hemibrain_weights = np.load(hemibrain_weights_path)"
   ],
   "metadata": {
    "collapsed": false,
    "pycharm": {
     "name": "#%%\n"
    }
   }
  },
  {
   "cell_type": "code",
   "execution_count": 28,
   "outputs": [
    {
     "name": "stdout",
     "output_type": "stream",
     "text": [
      "6.38474672737621\n"
     ]
    },
    {
     "data": {
      "text/plain": "<Figure size 115.2x86.4 with 1 Axes>",
      "image/png": "[encoded data removed]"
     },
     "metadata": {
      "needs_background": "light"
     },
     "output_type": "display_data"
    },
    {
     "name": "stdout",
     "output_type": "stream",
     "text": [
      "Figure saved at: C:\\Users\\Peter\\PycharmProjects\\olfaction_evolution\\_hemibrain\\figures\\model_vs_hemibrain_weight\n"
     ]
    }
   ],
   "source": [
    "fig = plt.figure(figsize=FIGSIZE)\n",
    "ax = fig.add_axes(RECT)\n",
    "\n",
    "_plot_sparsity(ax, model_k, text=True, label='Simulation')\n",
    "_plot_sparsity(ax, hemibrain_k, text=False, label='Connectome')\n",
    "plt.legend(frameon=False)\n",
    "save_fig(figure_path, 'model_vs_hemibrain_weight')"
   ],
   "metadata": {
    "collapsed": false,
    "pycharm": {
     "name": "#%%\n"
    }
   }
  },
  {
   "cell_type": "code",
   "execution_count": 33,
   "outputs": [
    {
     "data": {
      "text/plain": "<Figure size 115.2x86.4 with 1 Axes>",
      "image/png": "[encoded data removed]"
     },
     "metadata": {
      "needs_background": "light"
     },
     "output_type": "display_data"
    },
    {
     "name": "stdout",
     "output_type": "stream",
     "text": [
      "Figure saved at: C:\\Users\\Peter\\PycharmProjects\\olfaction_evolution\\_hemibrain\\figures\\hemibrain_weight\n"
     ]
    }
   ],
   "source": [
    "fig = plt.figure(figsize=FIGSIZE)\n",
    "ax = fig.add_axes(RECT)\n",
    "\n",
    "_plot_sparsity(ax, hemibrain_k, text=True, label='Connectome', alpha=1)\n",
    "save_fig(figure_path, 'hemibrain_weight')"
   ],
   "metadata": {
    "collapsed": false,
    "pycharm": {
     "name": "#%%\n"
    }
   }
  },
  {
   "cell_type": "code",
   "execution_count": 30,
   "outputs": [
    {
     "data": {
      "text/plain": "<Figure size 115.2x86.4 with 1 Axes>",
      "image/png": "[encoded data removed]"
     },
     "metadata": {
      "needs_background": "light"
     },
     "output_type": "display_data"
    },
    {
     "name": "stdout",
     "output_type": "stream",
     "text": [
      "Figure saved at: C:\\Users\\Peter\\PycharmProjects\\olfaction_evolution\\_hemibrain\\figures\\PN2KC_weight\n"
     ]
    }
   ],
   "source": [
    "f, ax = pretty_fig(figsize=FIGSIZE, rect=RECT)\n",
    "plt.hist(hemibrain_weights, range=[0, 60], bins=60, density=True)\n",
    "plt.xticks(np.arange(0, 61, 20));\n",
    "plt.xlabel('PN to KC Weight')\n",
    "plt.ylabel('Frac. Nonzero Conn.')\n",
    "plt.yticks([0, 0.15])\n",
    "plt.ylim([0, 0.15])\n",
    "\n",
    "save_fig(figure_path, 'PN2KC_weight')\n",
    "\n"
   ],
   "metadata": {
    "collapsed": false,
    "pycharm": {
     "name": "#%%\n"
    }
   }
  },
  {
   "cell_type": "code",
   "execution_count": 9,
   "outputs": [
    {
     "data": {
      "text/plain": "[<matplotlib.lines.Line2D at 0x24157d4d4e0>]"
     },
     "execution_count": 9,
     "metadata": {},
     "output_type": "execute_result"
    },
    {
     "data": {
      "text/plain": "<Figure size 115.2x86.4 with 1 Axes>",
      "image/png": "[encoded data removed]"
     },
     "metadata": {
      "needs_background": "light"
     },
     "output_type": "display_data"
    },
    {
     "data": {
      "text/plain": "<Figure size 115.2x86.4 with 1 Axes>",
      "image/png": "[encoded data removed]"
     },
     "metadata": {
      "needs_background": "light"
     },
     "output_type": "display_data"
    }
   ],
   "source": [
    "# def _plot_xy(xs, ys):\n",
    "#     xs = [(x[1:] + x[:-1]) / 2 for x in xs]\n",
    "#     new_ys = []\n",
    "#     for i in range(len(xs)):\n",
    "#         x = xs[i]\n",
    "#         y = ys[i]\n",
    "#         # Plot density by dividing by binsize\n",
    "#         bin_size = x[1] - x[0]  # must have equal bin size\n",
    "#         y = y / bin_size\n",
    "#         if res['kc_prune_weak_weights'][i]:\n",
    "#             y[0] = 0  # Ignore the pruned ones\n",
    "#         # Smoothing\n",
    "#         window_lenth = int(0.02 / bin_size / 2) * 2 + 1\n",
    "#         y = savgol_filter(\n",
    "#             y, window_length=window_lenth, polyorder=0)\n",
    "#         new_ys.append(y)\n",
    "#         ys = new_ys\n",
    "\n",
    "def _xy_process(w, xs=None, filter=True):\n",
    "    from scipy.signal import savgol_filter\n",
    "    if xs is None:\n",
    "        xs = np.linspace(0, np.max(w)*1.01, 1001)\n",
    "    ys, _ = np.histogram(w.flatten(), bins=xs)\n",
    "    xs = (xs[1:] + xs[:-1]) / 2\n",
    "    bin_size = xs[1] - xs[0]  # must have equal bin size\n",
    "\n",
    "    ys[0] = 0\n",
    "    ys = ys / bin_size\n",
    "    window_length = int(0.02 / bin_size / 2) * 2 + 1\n",
    "    ys = savgol_filter(ys, window_length=window_length, polyorder=0)\n",
    "    return xs, ys\n",
    "\n",
    "plt.figure(figsize=FIGSIZE)\n",
    "xs, ys = _xy_process(model_weights)\n",
    "plt.plot(xs, ys)\n",
    "\n",
    "plt.figure(figsize=FIGSIZE)\n",
    "m = np.max(hemibrain_weights)\n",
    "xs_, ys_ = _xy_process(hemibrain_weights, np.arange(0, m))\n",
    "plt.plot(xs_, ys_)"
   ],
   "metadata": {
    "collapsed": false,
    "pycharm": {
     "name": "#%%\n"
    }
   }
  },
  {
   "cell_type": "code",
   "execution_count": null,
   "outputs": [],
   "source": [],
   "metadata": {
    "collapsed": false,
    "pycharm": {
     "name": "#%%\n"
    }
   }
  }
 ],
 "metadata": {
  "kernelspec": {
   "display_name": "Python 3",
   "language": "python",
   "name": "python3"
  },
  "language_info": {
   "codemirror_mode": {
    "name": "ipython",
    "version": 2
   },
   "file_extension": ".py",
   "mimetype": "text/x-python",
   "name": "python",
   "nbconvert_exporter": "python",
   "pygments_lexer": "ipython2",
   "version": "2.7.6"
  }
 },
 "nbformat": 4,
 "nbformat_minor": 0
}