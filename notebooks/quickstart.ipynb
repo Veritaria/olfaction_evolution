{
 "cells": [
  {
   "cell_type": "markdown",
   "metadata": {
    "colab_type": "text",
    "id": "pyMAgmsdhwBJ"
   },
   "source": [
    "### Evoluting a fruit-fly olfactory system in 2 minutes\n",
    "\n",
    "[![Open In Colab](https://colab.research.google.com/assets/colab-badge.svg)](https://colab.research.google.com/github/gyyang/olfaction_evolution/blob/master/notebooks/quickstart.ipynb)"
   ]
  },
  {
   "cell_type": "code",
   "execution_count": 1,
   "metadata": {
    "colab": {},
    "colab_type": "code",
    "id": "UItKKU8MKkS6"
   },
   "outputs": [],
   "source": [
    "import time\n",
    "import numpy as np\n",
    "from sklearn.metrics.pairwise import euclidean_distances\n",
    "import matplotlib.pyplot as plt\n",
    "\n",
    "import torch\n",
    "from torch import nn\n",
    "from torch.nn import init\n",
    "from torch.nn import functional as F\n",
    "from torch.utils.data import Dataset, DataLoader"
   ]
  },
  {
   "cell_type": "markdown",
   "metadata": {
    "colab_type": "text",
    "id": "6fPMi0ZAh5WR"
   },
   "source": [
    "### Dataset\n",
    "Here we define a dataset inspired by olfactory classification"
   ]
  },
  {
   "cell_type": "code",
   "execution_count": 2,
   "metadata": {
    "colab": {},
    "colab_type": "code",
    "id": "Va7VbaN7K8kI"
   },
   "outputs": [],
   "source": [
    "# Dataset\n",
    "n_train = 1000000  # number of training examples\n",
    "n_val = 8192  # number of validation examples\n",
    "n_class = 100  # number of classes\n",
    "n_orn = 50  # number of olfactory receptor neurons\n",
    "\n",
    "prototypes = np.random.uniform(0, 1, (n_class, n_orn)).astype(np.float32)\n",
    "train_x = np.random.uniform(0, 1, (n_train, n_orn)).astype(np.float32)\n",
    "val_x = np.random.uniform(0, 1, (n_val, n_orn)).astype(np.float32)\n",
    "\n",
    "def get_labels(prototypes, odors):\n",
    "    \"\"\"Get label of nearest prototype for odors.\"\"\"\n",
    "    dist = euclidean_distances(prototypes, odors)\n",
    "    return np.argmin(dist, axis=0)\n",
    "\n",
    "train_y = get_labels(prototypes, train_x).astype(np.int32)\n",
    "val_y = get_labels(prototypes, val_x).astype(np.int32)"
   ]
  },
  {
   "cell_type": "markdown",
   "metadata": {
    "colab_type": "text",
    "id": "SmHGiZDaimwb"
   },
   "source": [
    "### Model\n",
    "\n",
    "Here we define a three layer feedforward network. The most critical architectural choice is to constraint the connection weights of the first two layers to be non-negative, similar to long-range excitatory connections."
   ]
  },
  {
   "cell_type": "code",
   "execution_count": 3,
   "metadata": {
    "colab": {},
    "colab_type": "code",
    "id": "OjVr29QPKxrJ"
   },
   "outputs": [],
   "source": [
    "def _get_normalization(norm_type, num_features=None):\n",
    "    if norm_type is not None:\n",
    "        if norm_type == 'batch_norm':\n",
    "            return nn.BatchNorm1d(num_features)\n",
    "    return lambda x: x\n",
    "\n",
    "\n",
    "class Layer(nn.Module):\n",
    "    r\"\"\"Applies a linear transformation to the incoming data: :math:`y = xA^T + b`\n",
    "\n",
    "    Same as nn.Linear, except that weight matrix can be set non-negative\n",
    "    \"\"\"\n",
    "    def __init__(self,\n",
    "                 in_features,\n",
    "                 out_features,\n",
    "                 bias=True,\n",
    "                 sign_constraint=False,\n",
    "                 weight_initializer=None,\n",
    "                 weight_initial_value=None,\n",
    "                 bias_initial_value=0,\n",
    "                 pre_norm=None,\n",
    "                 post_norm=None,\n",
    "                 dropout=False,\n",
    "                 dropout_rate=None,\n",
    "                 ):\n",
    "        super(Layer, self).__init__()\n",
    "        self.in_features = in_features\n",
    "        self.out_features = out_features\n",
    "        if bias:\n",
    "            self.bias = nn.Parameter(torch.Tensor(out_features))\n",
    "        else:\n",
    "            self.register_parameter('bias', None)\n",
    "\n",
    "        self.weight_initializer = weight_initializer\n",
    "        if weight_initial_value:\n",
    "            self.weight_init_range = weight_initial_value\n",
    "        else:\n",
    "            self.weight_init_range = 2. / in_features\n",
    "        self.bias_initial_value = bias_initial_value\n",
    "        self.sign_constraint = sign_constraint\n",
    "        self.weight = nn.Parameter(torch.Tensor(out_features, in_features))\n",
    "\n",
    "        self.pre_norm = _get_normalization(pre_norm, num_features=out_features)\n",
    "        self.activation = nn.ReLU()\n",
    "        self.post_norm = _get_normalization(post_norm, num_features=out_features)\n",
    "\n",
    "        if dropout:\n",
    "            self.dropout = nn.Dropout(p=dropout_rate)\n",
    "        else:\n",
    "            self.dropout = lambda x: x\n",
    "\n",
    "        self.reset_parameters()\n",
    "\n",
    "    def reset_parameters(self):\n",
    "        if self.sign_constraint:\n",
    "            self._reset_sign_constraint_parameters()\n",
    "        else:\n",
    "            self._reset_parameters()\n",
    "\n",
    "    def _reset_parameters(self):\n",
    "        init.kaiming_uniform_(self.weight, a=math.sqrt(5))\n",
    "        if self.bias is not None:\n",
    "            fan_in, _ = init._calculate_fan_in_and_fan_out(self.weight)\n",
    "            bound = 1 / math.sqrt(fan_in)\n",
    "            init.uniform_(self.bias, -bound, bound)\n",
    "\n",
    "    def _reset_sign_constraint_parameters(self):\n",
    "        if self.weight_initializer == 'constant':\n",
    "            init.constant_(self.weight, self.weight_init_range)\n",
    "        elif self.weight_initializer == 'uniform':\n",
    "            init.uniform_(self.weight, 0, self.weight_init_range)\n",
    "        elif self.weight_initializer == 'normal':\n",
    "            init.normal_(self.weight, 0, self.weight_init_range)\n",
    "        else:\n",
    "            raise ValueError('Unknown initializer', str(self.weight_initializer))\n",
    "\n",
    "        if self.bias is not None:\n",
    "            init.constant_(self.bias, self.bias_initial_value)\n",
    "\n",
    "    @property\n",
    "    def effective_weight(self):\n",
    "        if self.sign_constraint:\n",
    "            weight = torch.abs(self.weight)\n",
    "        else:\n",
    "            weight = self.weight\n",
    "\n",
    "        return weight\n",
    "\n",
    "    def forward(self, input):\n",
    "        weight = self.effective_weight\n",
    "        pre_act = F.linear(input, weight, self.bias)\n",
    "        pre_act_normalized = self.pre_norm(pre_act)\n",
    "        output = self.activation(pre_act_normalized)\n",
    "        output_normalized = self.post_norm(output)\n",
    "        output_normalized = self.dropout(output_normalized)\n",
    "        return output_normalized\n",
    "\n",
    "\n",
    "class FullModel(nn.Module):\n",
    "    \"\"\"\"The full 3-layer model.\"\"\"\n",
    "    def __init__(self):\n",
    "        super(FullModel, self).__init__()\n",
    "        # ORN-PN\n",
    "        self.layer1 = Layer(50, 50,\n",
    "                            weight_initializer='normal',\n",
    "                            sign_constraint=True,\n",
    "                            pre_norm='batch_norm',\n",
    "                            )\n",
    "\n",
    "        # PN-KC\n",
    "        self.layer2 = Layer(50, 2500,\n",
    "                            weight_initializer='uniform',\n",
    "                            weight_initial_value=0.2,\n",
    "                            bias_initial_value=-1,\n",
    "                            sign_constraint=True,\n",
    "                            dropout=True,\n",
    "                            dropout_rate=0.5)\n",
    "\n",
    "        self.layer3 = nn.Linear(2500, 100)  # KC-output\n",
    "        self.loss = nn.CrossEntropyLoss()\n",
    "\n",
    "    def forward(self, x, target):\n",
    "        act1 = self.layer1(x)\n",
    "        act2 = self.layer2(act1)\n",
    "        y = self.layer3(act2)\n",
    "        loss = self.loss(y, target)\n",
    "        with torch.no_grad():\n",
    "            _, pred = torch.max(y, 1)\n",
    "            acc = (pred == target).sum().item() / target.size(0)\n",
    "        return {'loss': loss, 'acc': acc, 'kc': act2}\n",
    "\n",
    "    @property\n",
    "    def w_orn2pn(self):\n",
    "        # Transpose to be consistent with tensorflow default\n",
    "        return self.layer1.effective_weight.data.cpu().numpy().T\n",
    "\n",
    "    @property\n",
    "    def w_pn2kc(self):\n",
    "        return self.layer2.effective_weight.data.cpu().numpy().T"
   ]
  },
  {
   "cell_type": "markdown",
   "metadata": {
    "colab_type": "text",
    "id": "6zRYqhnMi8OU"
   },
   "source": [
    "### Training\n",
    "\n",
    "Train the neural network on the dataset. Plot the connection weights during training."
   ]
  },
  {
   "cell_type": "markdown",
   "metadata": {
    "colab_type": "text",
    "id": "2gwzgtN0jFgH"
   },
   "source": [
    "### Quantify connectivity\n",
    "\n",
    "Here we quantify the connectivity by first inferring a threshold between weak and strong connections. Then we quantify the number of strong connections received by each expansion layer neuron."
   ]
  },
  {
   "cell_type": "code",
   "execution_count": 6,
   "metadata": {
    "colab": {
     "base_uri": "https://localhost:8080/",
     "height": 564
    },
    "colab_type": "code",
    "executionInfo": {
     "elapsed": 1325,
     "status": "ok",
     "timestamp": 1579231345500,
     "user": {
      "displayName": "Robert Guangyu Yang",
      "photoUrl": "https://lh3.googleusercontent.com/a-/AAuE7mAO48UJ0ampumZ4JebAlMMND0jjzlNXvB1jnZ1r-g=s64",
      "userId": "03687102756595881121"
     },
     "user_tz": 300
    },
    "id": "s_R5ShuJRUWe",
    "outputId": "22c22088-7e98-44b2-c8d5-5a135e5fc985"
   },
   "outputs": [
    {
     "data": {
      "text/plain": [
       "Text(0, 0.5, 'Number of KCs')"
      ]
     },
     "execution_count": 6,
     "metadata": {
      "tags": []
     },
     "output_type": "execute_result"
    },
    {
     "data": {
      "image/png": "[encoded data removed]",
      "text/plain": [
       "<Figure size 432x288 with 1 Axes>"
      ]
     },
     "metadata": {
      "tags": []
     },
     "output_type": "display_data"
    },
    {
     "data": {
      "image/png": "[encoded data removed]",
      "text/plain": [
       "<Figure size 432x288 with 1 Axes>"
      ]
     },
     "metadata": {
      "tags": []
     },
     "output_type": "display_data"
    }
   ],
   "source": [
    "from scipy.stats import multivariate_normal\n",
    "from sklearn.mixture import GaussianMixture\n",
    "\n",
    "def infer_threshold(x):\n",
    "    \"\"\"Infers the threshold of a bi-modal distribution.\"\"\"\n",
    "    x = np.array(x).flatten()\n",
    "    x = np.log(x +1e-10)\n",
    "\n",
    "    clf = GaussianMixture(n_components=2, means_init=[[-5], [0.]], n_init=1)\n",
    "    clf.fit(x[:, np.newaxis])\n",
    "\n",
    "    x_tmp = np.linspace(x.min(), x.max(), 1000)\n",
    "    pdf1 = multivariate_normal.pdf(x_tmp, clf.means_[0],\n",
    "                                    clf.covariances_[0]) * clf.weights_[0]\n",
    "    pdf2 = multivariate_normal.pdf(x_tmp, clf.means_[1],\n",
    "                                    clf.covariances_[1]) * clf.weights_[1]\n",
    "    if clf.means_[0, 0] < clf.means_[1, 0]:\n",
    "        diff = pdf1 < pdf2\n",
    "    else:\n",
    "        diff = pdf1 > pdf2\n",
    "    return np.exp(x_tmp[np.where(diff)[0][0]])\n",
    "\n",
    "w_pn2kc = model.w_pn2kc\n",
    "threshold = infer_threshold(w_pn2kc)\n",
    "\n",
    "plt.figure()\n",
    "plt.hist(w_pn2kc.flatten(), bins=100)\n",
    "plt.ylim([0, 2000])\n",
    "plt.plot([threshold, threshold], [0, 2000])\n",
    "plt.xlabel('Compression-expansion (PN-KC) connection weights')\n",
    "plt.ylabel('Number of connections')\n",
    "\n",
    "plt.figure()\n",
    "plt.hist(np.sum(w_pn2kc>threshold, axis=0), bins=np.arange(50))\n",
    "plt.xlim([0, 50])\n",
    "plt.xticks([1, 7, 25, 50])\n",
    "plt.xlabel('Expansion neuron (KCs) input degree')\n",
    "plt.ylabel('Number of KCs')"
   ]
  },
  {
   "cell_type": "code",
   "execution_count": 0,
   "metadata": {
    "colab": {},
    "colab_type": "code",
    "id": "AZXyas7UcZko"
   },
   "outputs": [],
   "source": []
  }
 ],
 "metadata": {
  "accelerator": "GPU",
  "colab": {
   "authorship_tag": "ABX9TyOAmPCXaq03XTtLTP87xThw",
   "collapsed_sections": [],
   "name": "OlfactionEvolutionExample.ipynb",
   "provenance": []
  },
  "kernelspec": {
   "display_name": "Python 3",
   "language": "python",
   "name": "python3"
  },
  "language_info": {
   "codemirror_mode": {
    "name": "ipython",
    "version": 3
   },
   "file_extension": ".py",
   "mimetype": "text/x-python",
   "name": "python",
   "nbconvert_exporter": "python",
   "pygments_lexer": "ipython3",
   "version": "3.10.12"
  }
 },
 "nbformat": 4,
 "nbformat_minor": 1
}
