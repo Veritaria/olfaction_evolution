{
 "cells": [
  {
   "cell_type": "code",
   "execution_count": 234,
   "metadata": {
    "collapsed": true
   },
   "outputs": [],
   "source": [
    "import os\n",
    "import pandas as pd\n",
    "import numpy as np\n",
    "from collections import defaultdict\n",
    "import matplotlib.pyplot as plt\n",
    "from pylab import rcParams\n",
    "import seaborn as sns\n",
    "import sys\n",
    "from pathlib import Path\n",
    "\n",
    "rcParams['figure.figsize'] = 3, 2\n",
    "rcParams['font.size'] = 14\n",
    "rcParams['axes.linewidth']=2\n",
    "rcParams['font.sans-serif'] = \"Arial\"\n",
    "rcParams['font.family'] = \"sans-serif\"\n",
    "rcParams['pdf.fonttype'] = 42\n",
    "rcParams['ps.fonttype'] = 42\n",
    "\n",
    "path = Path(os.getcwd())\n",
    "project_path = path.parent.absolute()\n",
    "figure_path = os.path.join(project_path, '_FIGURES')\n",
    "sys.path.append(os.path.dirname(os.getcwd()))"
   ]
  },
  {
   "cell_type": "code",
   "execution_count": 171,
   "metadata": {
    "pycharm": {
     "name": "#%%\n"
    }
   },
   "outputs": [],
   "source": [
    "def include_col_entries_by_substring(df, col, substrings):\n",
    "    if isinstance(substrings, list):\n",
    "        masks = []\n",
    "        for substring in substrings:\n",
    "            masks.append(df[col].str.contains(substring, na=False))\n",
    "        mask = np.any(masks, axis=0)\n",
    "        df = df[mask]\n",
    "    else:\n",
    "        df = df[df[col].str.contains(substrings, na=False)]\n",
    "    return df\n",
    "\n",
    "def exclude_col_entries_by_substring(df, col, substrings):\n",
    "    if isinstance(substrings, list):\n",
    "        for substring in substrings:\n",
    "            df = df[~df[col].str.contains(substring, na=False)]\n",
    "    else:\n",
    "        df = df[~df[col].str.contains(substrings, na=False)]\n",
    "    return df\n"
   ]
  },
  {
   "cell_type": "code",
   "execution_count": 101,
   "metadata": {
    "pycharm": {
     "name": "#%%\n"
    }
   },
   "outputs": [],
   "source": [
    "d = r'C:\\Users\\Peter\\Dropbox\\olfaction_evolution\\hemibrain'\n",
    "conns = 'traced-total-connections.csv'\n",
    "names = 'traced-neurons.csv'\n",
    "\n",
    "dfw = pd.read_csv(os.path.join(d, conns))\n",
    "dfn = pd.read_csv(os.path.join(d, names))"
   ]
  },
  {
   "cell_type": "code",
   "execution_count": 102,
   "metadata": {
    "pycharm": {
     "name": "#%%\n"
    }
   },
   "outputs": [
    {
     "data": {
      "text/html": [
       "<div>\n",
       "<style scoped>\n",
       "    .dataframe tbody tr th:only-of-type {\n",
       "        vertical-align: middle;\n",
       "    }\n",
       "\n",
       "    .dataframe tbody tr th {\n",
       "        vertical-align: top;\n",
       "    }\n",
       "\n",
       "    .dataframe thead th {\n",
       "        text-align: right;\n",
       "    }\n",
       "</style>\n",
       "<table border=\"1\" class=\"dataframe\">\n",
       "  <thead>\n",
       "    <tr style=\"text-align: right;\">\n",
       "      <th></th>\n",
       "      <th>bodyId</th>\n",
       "      <th>type</th>\n",
       "      <th>instance</th>\n",
       "    </tr>\n",
       "  </thead>\n",
       "  <tbody>\n",
       "    <tr>\n",
       "      <th>0</th>\n",
       "      <td>200326126</td>\n",
       "      <td>CL141</td>\n",
       "      <td>CL141_L</td>\n",
       "    </tr>\n",
       "    <tr>\n",
       "      <th>1</th>\n",
       "      <td>202916528</td>\n",
       "      <td>FS4C</td>\n",
       "      <td>FS4C(FQ12)_C4_R</td>\n",
       "    </tr>\n",
       "    <tr>\n",
       "      <th>2</th>\n",
       "      <td>203253072</td>\n",
       "      <td>FS4A</td>\n",
       "      <td>FS4A(AB)(FQ12)_C3_R</td>\n",
       "    </tr>\n",
       "    <tr>\n",
       "      <th>3</th>\n",
       "      <td>203253253</td>\n",
       "      <td>SMP505</td>\n",
       "      <td>SMP505(PDM22)_L</td>\n",
       "    </tr>\n",
       "    <tr>\n",
       "      <th>4</th>\n",
       "      <td>203257652</td>\n",
       "      <td>FS4C</td>\n",
       "      <td>FS4C(FQ12)_C6_R</td>\n",
       "    </tr>\n",
       "  </tbody>\n",
       "</table>\n",
       "</div>"
      ],
      "text/plain": [
       "      bodyId    type             instance\n",
       "0  200326126   CL141              CL141_L\n",
       "1  202916528    FS4C      FS4C(FQ12)_C4_R\n",
       "2  203253072    FS4A  FS4A(AB)(FQ12)_C3_R\n",
       "3  203253253  SMP505      SMP505(PDM22)_L\n",
       "4  203257652    FS4C      FS4C(FQ12)_C6_R"
      ]
     },
     "execution_count": 102,
     "metadata": {},
     "output_type": "execute_result"
    }
   ],
   "source": [
    "dfn.head()"
   ]
  },
  {
   "cell_type": "markdown",
   "metadata": {
    "pycharm": {
     "name": "#%% md\n"
    }
   },
   "source": [
    "ORNS"
   ]
  },
  {
   "cell_type": "code",
   "execution_count": 132,
   "metadata": {
    "pycharm": {
     "name": "#%%\n"
    }
   },
   "outputs": [
    {
     "name": "stdout",
     "output_type": "stream",
     "text": [
      "2\n",
      "ORN_DM6_L    1\n",
      "ORN_DM3_L    1\n",
      "Name: instance, dtype: int64\n"
     ]
    }
   ],
   "source": [
    "filtered = include_col_entries_by_substring(dfn, 'instance', 'OR')\n",
    "print(filtered['instance'].count())\n",
    "print(filtered['instance'].value_counts())"
   ]
  },
  {
   "cell_type": "markdown",
   "metadata": {
    "pycharm": {
     "name": "#%% md\n"
    }
   },
   "source": [
    "KENYON CELLS"
   ]
  },
  {
   "cell_type": "code",
   "execution_count": 133,
   "metadata": {
    "pycharm": {
     "name": "#%%\n"
    }
   },
   "outputs": [
    {
     "name": "stdout",
     "output_type": "stream",
     "text": [
      "1931\n",
      "KCg-m_R            590\n",
      "KCab-m_R           354\n",
      "KCab-c_R           252\n",
      "KCab-s_R           223\n",
      "KCa'b'-ap2_R       127\n",
      "KCa'b'-m_R         119\n",
      "KCg-d_R             99\n",
      "KCa'b'-ap1_R        91\n",
      "KCab-p_R            60\n",
      "KCg-t_R              8\n",
      "KCy(half)            2\n",
      "KC(incomplete?)      2\n",
      "KCg-s1(super)_R      1\n",
      "KCg-s2(super)_R      1\n",
      "KCg-s3_R             1\n",
      "KCg-s4_R             1\n",
      "Name: instance, dtype: int64\n"
     ]
    }
   ],
   "source": [
    "filtered = include_col_entries_by_substring(dfn, 'instance', 'KC')\n",
    "print(filtered['instance'].count())\n",
    "print(filtered['instance'].value_counts())"
   ]
  },
  {
   "cell_type": "code",
   "execution_count": 134,
   "metadata": {
    "pycharm": {
     "name": "#%%\n"
    }
   },
   "outputs": [
    {
     "name": "stdout",
     "output_type": "stream",
     "text": [
      "1923\n",
      "KCg-m_R         590\n",
      "KCab-m_R        354\n",
      "KCab-c_R        252\n",
      "KCab-s_R        223\n",
      "KCa'b'-ap2_R    127\n",
      "KCa'b'-m_R      119\n",
      "KCg-d_R          99\n",
      "KCa'b'-ap1_R     91\n",
      "KCab-p_R         60\n",
      "KCg-t_R           8\n",
      "Name: instance, dtype: int64\n"
     ]
    }
   ],
   "source": [
    "kcn = exclude_col_entries_by_substring(filtered, 'instance',\n",
    "                                            ['KCg-s', 'KCy', 'incomplete'])\n",
    "print(kcn['instance'].count())\n",
    "print(kcn['instance'].value_counts())"
   ]
  },
  {
   "cell_type": "markdown",
   "metadata": {
    "pycharm": {
     "name": "#%% md\n"
    }
   },
   "source": [
    "PNs\n",
    "\n",
    "See https://elifesciences.org/articles/57443, Antennal lobe neuropil neurons\n",
    "for nomenclature"
   ]
  },
  {
   "cell_type": "code",
   "execution_count": 178,
   "metadata": {
    "pycharm": {
     "name": "#%%\n"
    }
   },
   "outputs": [
    {
     "data": {
      "text/plain": [
       "['DA1_lPN_R',\n",
       " 'DA1_vPN_R',\n",
       " 'DA2_lPN_R',\n",
       " 'DA3_adPN_R',\n",
       " 'DA4l_adPN_R',\n",
       " 'DA4m_adPN_R',\n",
       " 'DC1_adPN_R',\n",
       " 'DC2_adPN_R',\n",
       " 'DC3_adPN_R',\n",
       " 'DC4_adPN_R',\n",
       " 'DC4_vPN_R',\n",
       " 'DL1_adPN_R',\n",
       " 'DL2d_adPN_R',\n",
       " 'DL2d_vPN_R',\n",
       " 'DL2v_adPN_R',\n",
       " 'DL3_lPN_R',\n",
       " 'DL4_adPN_R',\n",
       " 'DL5_adPN_R',\n",
       " 'DM1_lPN_R',\n",
       " 'DM2_lPN_R',\n",
       " 'DM3_adPN_R',\n",
       " 'DM3_vPN_R',\n",
       " 'DM4_adPN_R',\n",
       " 'DM4_vPN_R',\n",
       " 'DM5_lPN_R',\n",
       " 'DM6_adPN_R',\n",
       " 'DP1l_adPN_R',\n",
       " 'DP1l_vPN_R',\n",
       " 'DP1m_adPN_R',\n",
       " 'DP1m_vPN_R',\n",
       " 'D_adPN_R',\n",
       " 'LPN_R',\n",
       " 'MZ_lv2PN_R',\n",
       " 'MZ_lvPN(multiAL+SEZ)_R',\n",
       " 'M_adPNm3_R',\n",
       " 'M_adPNm4_R',\n",
       " 'M_adPNm5_R',\n",
       " 'M_adPNm6_R',\n",
       " 'M_adPNm7_R',\n",
       " 'M_adPNm8_R',\n",
       " 'M_ilPN8t91_R',\n",
       " 'M_ilPNm90_R',\n",
       " 'M_imPNl92_R',\n",
       " 'M_l2PN10t19_R',\n",
       " 'M_l2PN3t18_R',\n",
       " 'M_l2PNl20_R',\n",
       " 'M_l2PNl21_R',\n",
       " 'M_l2PNl22_R',\n",
       " 'M_l2PNl23_R',\n",
       " 'M_l2PNm14_R',\n",
       " 'M_l2PNm15_R',\n",
       " 'M_l2PNm16_R',\n",
       " 'M_l2PNm17_R',\n",
       " 'M_lPNm11A_R',\n",
       " 'M_lPNm11B_R',\n",
       " 'M_lPNm11C_R',\n",
       " 'M_lPNm11D_R',\n",
       " 'M_lPNm12_R',\n",
       " 'M_lPNm13_R',\n",
       " 'M_lv2PN9t49_R',\n",
       " 'M_lvPNm24_R',\n",
       " 'M_lvPNm25_R',\n",
       " 'M_lvPNm26_R',\n",
       " 'M_lvPNm27_R',\n",
       " 'M_lvPNm28_R',\n",
       " 'M_lvPNm29_R',\n",
       " 'M_lvPNm30_R',\n",
       " 'M_lvPNm31_R',\n",
       " 'M_lvPNm32_R',\n",
       " 'M_lvPNm33_R',\n",
       " 'M_lvPNm34_R',\n",
       " 'M_lvPNm35_R',\n",
       " 'M_lvPNm36_R',\n",
       " 'M_lvPNm37_R',\n",
       " 'M_lvPNm38_R',\n",
       " 'M_lvPNm39_R',\n",
       " 'M_lvPNm40_R',\n",
       " 'M_lvPNm41_R',\n",
       " 'M_lvPNm42_R',\n",
       " 'M_lvPNm43_R',\n",
       " 'M_lvPNm44_R',\n",
       " 'M_lvPNm45_R',\n",
       " 'M_lvPNm46_R',\n",
       " 'M_lvPNm47_R',\n",
       " 'M_lvPNm48_R',\n",
       " 'M_smPN6t2_L',\n",
       " 'M_smPNm1_L',\n",
       " 'M_spPN4t9_R',\n",
       " 'M_spPN5t10(PVM01)_L',\n",
       " 'M_spPN5t10_R',\n",
       " 'M_vPNml50_R',\n",
       " 'M_vPNml51_R',\n",
       " 'M_vPNml52_R',\n",
       " 'M_vPNml53_R',\n",
       " 'M_vPNml54_R',\n",
       " 'M_vPNml55_R',\n",
       " 'M_vPNml56_R',\n",
       " 'M_vPNml57_R',\n",
       " 'M_vPNml58_R',\n",
       " 'M_vPNml59_R',\n",
       " 'M_vPNml60_R',\n",
       " 'M_vPNml61_R',\n",
       " 'M_vPNml62_R',\n",
       " 'M_vPNml63_R',\n",
       " 'M_vPNml64_R',\n",
       " 'M_vPNml65_R',\n",
       " 'M_vPNml66_R',\n",
       " 'M_vPNml67_R',\n",
       " 'M_vPNml68_R',\n",
       " 'M_vPNml69_R',\n",
       " 'M_vPNml70_R',\n",
       " 'M_vPNml71_R',\n",
       " 'M_vPNml72_R',\n",
       " 'M_vPNml73_R',\n",
       " 'M_vPNml74_R',\n",
       " 'M_vPNml75_R',\n",
       " 'M_vPNml76_R',\n",
       " 'M_vPNml77_R',\n",
       " 'M_vPNml78_R',\n",
       " 'M_vPNml79_R',\n",
       " 'M_vPNml80_R',\n",
       " 'M_vPNml81_R',\n",
       " 'M_vPNml82_R',\n",
       " 'M_vPNml83_R',\n",
       " 'M_vPNml84_R',\n",
       " 'M_vPNml85_R',\n",
       " 'M_vPNml86_R',\n",
       " 'M_vPNml87_R',\n",
       " 'M_vPNml88_R',\n",
       " 'M_vPNml89_R',\n",
       " 'VA1d_adPN_R',\n",
       " 'VA1d_vPN_R',\n",
       " 'VA1v_adPN_R',\n",
       " 'VA1v_vPN_R',\n",
       " 'VA2_adPN_R',\n",
       " 'VA3_adPN_R',\n",
       " 'VA4_lPN_R',\n",
       " 'VA5_lPN_R',\n",
       " 'VA6_adPN_R',\n",
       " 'VA7l_adPN_R',\n",
       " 'VA7m_lPN_R',\n",
       " 'VC1_lPN_R',\n",
       " 'VC2_lPN_R',\n",
       " 'VC3l_adPN_R',\n",
       " 'VC3m_lvPN_R',\n",
       " 'VC4_adPN_R',\n",
       " 'VC5_adPN_R',\n",
       " 'VC5_lvPN_R',\n",
       " 'VL1_ilPN',\n",
       " 'VL1_vPN_R',\n",
       " 'VL2a_adPN_R',\n",
       " 'VL2a_vPN_R',\n",
       " 'VL2p_adPN_R',\n",
       " 'VL2p_vPN_R',\n",
       " 'VM1_lPN_R',\n",
       " 'VM2_adPN_R',\n",
       " 'VM3_adPN_R',\n",
       " 'VM4_adPN_R',\n",
       " 'VM4_lvPN_R',\n",
       " 'VM5d_adPN_R',\n",
       " 'VM5v_adPN_R',\n",
       " 'VM7d_adPN_R',\n",
       " 'VM7v_adPN_R',\n",
       " 'VP1d+VP4_l2PN1_R',\n",
       " 'VP1d+VP4_l2PN2(lALT)_R',\n",
       " 'VP1d_il2PN(dALT)',\n",
       " 'VP1l+VP3_ilPN',\n",
       " 'VP1l+_lvPN_R',\n",
       " 'VP1m+VP2_lvPN1_R',\n",
       " 'VP1m+VP2_lvPN2_R',\n",
       " 'VP1m+VP5_ilPN',\n",
       " 'VP1m+_lvPN(t2ALT)_R',\n",
       " 'VP1m_l2PN(lALT)_R',\n",
       " 'VP2+VC5_l2PN(lALT)_R',\n",
       " 'VP2+Z_lvPN(uniAL+SEZ)_R',\n",
       " 'VP2+_adPN_R',\n",
       " 'VP2_adPN_R',\n",
       " 'VP2_l2PN(lALT)_R',\n",
       " 'VP3+VP1l_ivPN',\n",
       " 'VP3+_l2PN(t10ALT)_R',\n",
       " 'VP3+_vPN(t10ALT)_R',\n",
       " 'VP4+VL1_l2PN(t3ALT)_R',\n",
       " 'VP4+_vPN(mlALT)_R',\n",
       " 'VP4_vPN(mlALT)_R',\n",
       " 'VP5+VP2_l2PN(t10ALT)_R',\n",
       " 'VP5+VP3_l2PN(t10ALT)_R',\n",
       " 'VP5+Z_adPN(uniAL+SEZ)_R',\n",
       " 'VP5+_l2PN(t10ALT)_R',\n",
       " 'V_ilPN',\n",
       " 'V_l2PN_R',\n",
       " 'WEDPN10A_R',\n",
       " 'WEDPN10B_R',\n",
       " 'WEDPN11_R',\n",
       " 'WEDPN12_R',\n",
       " 'WEDPN13_R',\n",
       " 'WEDPN14_R',\n",
       " 'WEDPN15_R',\n",
       " 'WEDPN16_a_R',\n",
       " 'WEDPN16_b_R',\n",
       " 'WEDPN16_c_R',\n",
       " 'WEDPN16_d_R',\n",
       " 'WEDPN17_a_R',\n",
       " 'WEDPN17_b_R',\n",
       " 'WEDPN17_c_R',\n",
       " 'WEDPN18_R',\n",
       " 'WEDPN19_R',\n",
       " 'WEDPN1A_a_R',\n",
       " 'WEDPN1A_b_R',\n",
       " 'WEDPN1B_R',\n",
       " 'WEDPN2A_R',\n",
       " 'WEDPN2B_R',\n",
       " 'WEDPN3_R',\n",
       " 'WEDPN4_R',\n",
       " 'WEDPN5_R',\n",
       " 'WEDPN6A_R',\n",
       " 'WEDPN6B_R',\n",
       " 'WEDPN6C_R',\n",
       " 'WEDPN7A_R',\n",
       " 'WEDPN7B_R',\n",
       " 'WEDPN7C_R',\n",
       " 'WEDPN8A_R',\n",
       " 'WEDPN8B_R',\n",
       " 'WEDPN8C_R',\n",
       " 'WEDPN8D_R',\n",
       " 'WEDPN9_R',\n",
       " 'Z_vPNml1(noAL+SEZ)_R']"
      ]
     },
     "execution_count": 178,
     "metadata": {},
     "output_type": "execute_result"
    }
   ],
   "source": [
    "filtered = dfn[dfn.instance.str.contains(\"PN\", na=False)]\n",
    "sorted(filtered['instance'].unique())"
   ]
  },
  {
   "cell_type": "code",
   "execution_count": 320,
   "metadata": {
    "pycharm": {
     "name": "#%%\n"
    }
   },
   "outputs": [],
   "source": [
    "filtered = include_col_entries_by_substring(dfn, 'instance', 'PN')\n",
    "# mechanosensory wedge projection neurons. Not antennal lobe\n",
    "filtered = exclude_col_entries_by_substring(filtered, 'instance', 'WEDPN')\n",
    "# lateral posterior neuron, circadian clock neuron\n",
    "filtered = exclude_col_entries_by_substring(filtered, 'instance', 'LPN')\n",
    "# left antennal lobe neurons\n",
    "filtered = exclude_col_entries_by_substring(filtered, 'instance', '_L')\n",
    "# multiglomerular neurons\n",
    "filtered = exclude_col_entries_by_substring(\n",
    "    filtered,\n",
    "    'instance',\n",
    "    ['M_', 'MZ_lvPN', 'lv2PN'])"
   ]
  },
  {
   "cell_type": "markdown",
   "metadata": {
    "pycharm": {
     "name": "#%% md\n"
    }
   },
   "source": [
    "Uniglomerular PNs (either in the format of \"gloname_\" or \"gloname+_\", the latter suggesting that it targets a single glomerulus and another region)"
   ]
  },
  {
   "cell_type": "code",
   "execution_count": 321,
   "metadata": {
    "pycharm": {
     "name": "#%%\n"
    },
    "scrolled": true
   },
   "outputs": [
    {
     "name": "stdout",
     "output_type": "stream",
     "text": [
      "Number of unique uPNs: 79\n"
     ]
    },
    {
     "data": {
      "text/plain": [
       "['DA1_lPN_R',\n",
       " 'DA1_vPN_R',\n",
       " 'DA2_lPN_R',\n",
       " 'DA3_adPN_R',\n",
       " 'DA4l_adPN_R',\n",
       " 'DA4m_adPN_R',\n",
       " 'DC1_adPN_R',\n",
       " 'DC2_adPN_R',\n",
       " 'DC3_adPN_R',\n",
       " 'DC4_adPN_R',\n",
       " 'DC4_vPN_R',\n",
       " 'DL1_adPN_R',\n",
       " 'DL2d_adPN_R',\n",
       " 'DL2d_vPN_R',\n",
       " 'DL2v_adPN_R',\n",
       " 'DL3_lPN_R',\n",
       " 'DL4_adPN_R',\n",
       " 'DL5_adPN_R',\n",
       " 'DM1_lPN_R',\n",
       " 'DM2_lPN_R',\n",
       " 'DM3_adPN_R',\n",
       " 'DM3_vPN_R',\n",
       " 'DM4_adPN_R',\n",
       " 'DM4_vPN_R',\n",
       " 'DM5_lPN_R',\n",
       " 'DM6_adPN_R',\n",
       " 'DP1l_adPN_R',\n",
       " 'DP1l_vPN_R',\n",
       " 'DP1m_adPN_R',\n",
       " 'DP1m_vPN_R',\n",
       " 'D_adPN_R',\n",
       " 'VA1d_adPN_R',\n",
       " 'VA1d_vPN_R',\n",
       " 'VA1v_adPN_R',\n",
       " 'VA1v_vPN_R',\n",
       " 'VA2_adPN_R',\n",
       " 'VA3_adPN_R',\n",
       " 'VA4_lPN_R',\n",
       " 'VA5_lPN_R',\n",
       " 'VA6_adPN_R',\n",
       " 'VA7l_adPN_R',\n",
       " 'VA7m_lPN_R',\n",
       " 'VC1_lPN_R',\n",
       " 'VC2_lPN_R',\n",
       " 'VC3l_adPN_R',\n",
       " 'VC3m_lvPN_R',\n",
       " 'VC4_adPN_R',\n",
       " 'VC5_adPN_R',\n",
       " 'VC5_lvPN_R',\n",
       " 'VL1_ilPN',\n",
       " 'VL1_vPN_R',\n",
       " 'VL2a_adPN_R',\n",
       " 'VL2a_vPN_R',\n",
       " 'VL2p_adPN_R',\n",
       " 'VL2p_vPN_R',\n",
       " 'VM1_lPN_R',\n",
       " 'VM2_adPN_R',\n",
       " 'VM3_adPN_R',\n",
       " 'VM4_adPN_R',\n",
       " 'VM4_lvPN_R',\n",
       " 'VM5d_adPN_R',\n",
       " 'VM5v_adPN_R',\n",
       " 'VM7d_adPN_R',\n",
       " 'VM7v_adPN_R',\n",
       " 'VP1d_il2PN(dALT)',\n",
       " 'VP1l+_lvPN_R',\n",
       " 'VP1m+_lvPN(t2ALT)_R',\n",
       " 'VP1m_l2PN(lALT)_R',\n",
       " 'VP2+_adPN_R',\n",
       " 'VP2_adPN_R',\n",
       " 'VP2_l2PN(lALT)_R',\n",
       " 'VP3+_l2PN(t10ALT)_R',\n",
       " 'VP3+_vPN(t10ALT)_R',\n",
       " 'VP4+_vPN(mlALT)_R',\n",
       " 'VP4_vPN(mlALT)_R',\n",
       " 'VP5+_l2PN(t10ALT)_R',\n",
       " 'V_ilPN',\n",
       " 'V_l2PN_R',\n",
       " 'Z_vPNml1(noAL+SEZ)_R']"
      ]
     },
     "execution_count": 321,
     "metadata": {},
     "output_type": "execute_result"
    }
   ],
   "source": [
    "mask = []\n",
    "for v in filtered['instance']:\n",
    "    v = v[:v.find('_')]\n",
    "    if '+' not in v:\n",
    "        mask.append(True)\n",
    "    else:\n",
    "        if v[-1] == '+':\n",
    "            mask.append(True)\n",
    "        else:\n",
    "            mask.append(False)\n",
    "uniglos = filtered[mask]\n",
    "print(f'Number of unique uPNs: {len(np.unique(uniglos.instance))}')\n",
    "sorted(np.unique(uniglos.instance))"
   ]
  },
  {
   "cell_type": "markdown",
   "metadata": {
    "pycharm": {
     "name": "#%% md\n"
    }
   },
   "source": [
    "Biglo PNs"
   ]
  },
  {
   "cell_type": "code",
   "execution_count": 322,
   "metadata": {
    "pycharm": {
     "name": "#%%\n"
    }
   },
   "outputs": [
    {
     "name": "stdout",
     "output_type": "stream",
     "text": [
      "Number of unique bigloPNs: 13\n"
     ]
    },
    {
     "data": {
      "text/plain": [
       "['VP1d+VP4_l2PN1_R',\n",
       " 'VP1d+VP4_l2PN2(lALT)_R',\n",
       " 'VP1l+VP3_ilPN',\n",
       " 'VP1m+VP2_lvPN1_R',\n",
       " 'VP1m+VP2_lvPN2_R',\n",
       " 'VP1m+VP5_ilPN',\n",
       " 'VP2+VC5_l2PN(lALT)_R',\n",
       " 'VP2+Z_lvPN(uniAL+SEZ)_R',\n",
       " 'VP3+VP1l_ivPN',\n",
       " 'VP4+VL1_l2PN(t3ALT)_R',\n",
       " 'VP5+VP2_l2PN(t10ALT)_R',\n",
       " 'VP5+VP3_l2PN(t10ALT)_R',\n",
       " 'VP5+Z_adPN(uniAL+SEZ)_R']"
      ]
     },
     "execution_count": 322,
     "metadata": {},
     "output_type": "execute_result"
    }
   ],
   "source": [
    "mask = []\n",
    "for v in filtered['instance']:\n",
    "    v = v[:v.find('_')]\n",
    "    if '+' not in v:\n",
    "        mask.append(False)\n",
    "    else:\n",
    "        if v[-1] == '+':\n",
    "            mask.append(False)\n",
    "        else:\n",
    "            mask.append(True)\n",
    "biglos = filtered[mask]\n",
    "print(f'Number of unique bigloPNs: {len(np.unique(biglos.instance))}')\n",
    "sorted(np.unique(biglos.instance))\n"
   ]
  },
  {
   "cell_type": "markdown",
   "metadata": {
    "pycharm": {
     "name": "#%% md\n"
    }
   },
   "source": [
    "Multiglomerular PNs"
   ]
  },
  {
   "cell_type": "code",
   "execution_count": 323,
   "metadata": {
    "pycharm": {
     "name": "#%%\n"
    },
    "scrolled": true
   },
   "outputs": [
    {
     "name": "stdout",
     "output_type": "stream",
     "text": [
      "Number of unique mPNs: 98\n"
     ]
    },
    {
     "data": {
      "text/plain": [
       "['MZ_lv2PN_R',\n",
       " 'MZ_lvPN(multiAL+SEZ)_R',\n",
       " 'M_adPNm3_R',\n",
       " 'M_adPNm4_R',\n",
       " 'M_adPNm5_R',\n",
       " 'M_adPNm6_R',\n",
       " 'M_adPNm7_R',\n",
       " 'M_adPNm8_R',\n",
       " 'M_ilPN8t91_R',\n",
       " 'M_ilPNm90_R',\n",
       " 'M_imPNl92_R',\n",
       " 'M_l2PN10t19_R',\n",
       " 'M_l2PN3t18_R',\n",
       " 'M_l2PNl20_R',\n",
       " 'M_l2PNl21_R',\n",
       " 'M_l2PNl22_R',\n",
       " 'M_l2PNl23_R',\n",
       " 'M_l2PNm14_R',\n",
       " 'M_l2PNm15_R',\n",
       " 'M_l2PNm16_R',\n",
       " 'M_l2PNm17_R',\n",
       " 'M_lPNm11A_R',\n",
       " 'M_lPNm11B_R',\n",
       " 'M_lPNm11C_R',\n",
       " 'M_lPNm11D_R',\n",
       " 'M_lPNm12_R',\n",
       " 'M_lPNm13_R',\n",
       " 'M_lv2PN9t49_R',\n",
       " 'M_lvPNm24_R',\n",
       " 'M_lvPNm25_R',\n",
       " 'M_lvPNm26_R',\n",
       " 'M_lvPNm27_R',\n",
       " 'M_lvPNm28_R',\n",
       " 'M_lvPNm29_R',\n",
       " 'M_lvPNm30_R',\n",
       " 'M_lvPNm31_R',\n",
       " 'M_lvPNm32_R',\n",
       " 'M_lvPNm33_R',\n",
       " 'M_lvPNm34_R',\n",
       " 'M_lvPNm35_R',\n",
       " 'M_lvPNm36_R',\n",
       " 'M_lvPNm37_R',\n",
       " 'M_lvPNm38_R',\n",
       " 'M_lvPNm39_R',\n",
       " 'M_lvPNm40_R',\n",
       " 'M_lvPNm41_R',\n",
       " 'M_lvPNm42_R',\n",
       " 'M_lvPNm43_R',\n",
       " 'M_lvPNm44_R',\n",
       " 'M_lvPNm45_R',\n",
       " 'M_lvPNm46_R',\n",
       " 'M_lvPNm47_R',\n",
       " 'M_lvPNm48_R',\n",
       " 'M_smPN6t2_L',\n",
       " 'M_smPNm1_L',\n",
       " 'M_spPN4t9_R',\n",
       " 'M_spPN5t10(PVM01)_L',\n",
       " 'M_spPN5t10_R',\n",
       " 'M_vPNml50_R',\n",
       " 'M_vPNml51_R',\n",
       " 'M_vPNml52_R',\n",
       " 'M_vPNml53_R',\n",
       " 'M_vPNml54_R',\n",
       " 'M_vPNml55_R',\n",
       " 'M_vPNml56_R',\n",
       " 'M_vPNml57_R',\n",
       " 'M_vPNml58_R',\n",
       " 'M_vPNml59_R',\n",
       " 'M_vPNml60_R',\n",
       " 'M_vPNml61_R',\n",
       " 'M_vPNml62_R',\n",
       " 'M_vPNml63_R',\n",
       " 'M_vPNml64_R',\n",
       " 'M_vPNml65_R',\n",
       " 'M_vPNml66_R',\n",
       " 'M_vPNml67_R',\n",
       " 'M_vPNml68_R',\n",
       " 'M_vPNml69_R',\n",
       " 'M_vPNml70_R',\n",
       " 'M_vPNml71_R',\n",
       " 'M_vPNml72_R',\n",
       " 'M_vPNml73_R',\n",
       " 'M_vPNml74_R',\n",
       " 'M_vPNml75_R',\n",
       " 'M_vPNml76_R',\n",
       " 'M_vPNml77_R',\n",
       " 'M_vPNml78_R',\n",
       " 'M_vPNml79_R',\n",
       " 'M_vPNml80_R',\n",
       " 'M_vPNml81_R',\n",
       " 'M_vPNml82_R',\n",
       " 'M_vPNml83_R',\n",
       " 'M_vPNml84_R',\n",
       " 'M_vPNml85_R',\n",
       " 'M_vPNml86_R',\n",
       " 'M_vPNml87_R',\n",
       " 'M_vPNml88_R',\n",
       " 'M_vPNml89_R']"
      ]
     },
     "execution_count": 323,
     "metadata": {},
     "output_type": "execute_result"
    }
   ],
   "source": [
    "filtered = include_col_entries_by_substring(dfn, 'instance', 'PN')\n",
    "multiglos = include_col_entries_by_substring(\n",
    "    filtered,\n",
    "    'instance',\n",
    "    ['M_', 'MZ_'])\n",
    "print(f'Number of unique mPNs: {len(np.unique(multiglos.instance))}')\n",
    "sorted(np.unique(multiglos.instance))"
   ]
  },
  {
   "cell_type": "code",
   "execution_count": 324,
   "metadata": {
    "pycharm": {
     "name": "#%%\n"
    }
   },
   "outputs": [],
   "source": [
    "uniglo_id =uniglos.bodyId.to_numpy()\n",
    "biglo_id =biglos.bodyId.to_numpy()\n",
    "multiglo_id =multiglos.bodyId.to_numpy()\n",
    "kc_id = kcn.bodyId.to_numpy()"
   ]
  },
  {
   "cell_type": "markdown",
   "metadata": {
    "pycharm": {
     "name": "#%% md\n"
    }
   },
   "source": [
    "RESULTS:"
   ]
  },
  {
   "cell_type": "markdown",
   "metadata": {
    "pycharm": {
     "name": "#%% md\n"
    }
   },
   "source": [
    "Recurrent connections between KCs are extensive???"
   ]
  },
  {
   "cell_type": "code",
   "execution_count": 325,
   "metadata": {
    "pycharm": {
     "name": "#%%\n"
    }
   },
   "outputs": [
    {
     "name": "stdout",
     "output_type": "stream",
     "text": [
      "Average number of recurrent connections per KC: 175.7155486219449\n"
     ]
    }
   ],
   "source": [
    "mask1 = np.isin(dfw.bodyId_pre, kc_id)\n",
    "mask2 = np.isin(dfw.bodyId_post, kc_id)\n",
    "mask = np.all([mask1, mask2], axis=0)\n",
    "print(f'Average number of recurrent connections per KC: '\n",
    "      f'{np.sum(mask) / len(dfw[mask].bodyId_pre.unique())}')\n"
   ]
  },
  {
   "cell_type": "markdown",
   "metadata": {
    "pycharm": {
     "name": "#%% md\n"
    }
   },
   "source": [
    "Connections from biglo and multiglomerular PNs to KCs are negligible"
   ]
  },
  {
   "cell_type": "code",
   "execution_count": 326,
   "metadata": {
    "pycharm": {
     "name": "#%%\n"
    }
   },
   "outputs": [
    {
     "name": "stdout",
     "output_type": "stream",
     "text": [
      "Average number of biglo connections to each KC: 0.25637025481019243\n",
      "Average number of multiglo connections to each KC: 0.14716588663546543\n"
     ]
    }
   ],
   "source": [
    "mask1 = np.isin(dfw.bodyId_pre, biglo_id)\n",
    "mask2 = np.isin(dfw.bodyId_post, kc_id)\n",
    "mask = np.all([mask1, mask2], axis=0)\n",
    "print(f'Average number of biglo connections to each KC: '\n",
    "      f'{np.sum(mask) / len(kc_id)}')\n",
    "\n",
    "mask1 = np.isin(dfw.bodyId_pre, multiglo_id)\n",
    "mask2 = np.isin(dfw.bodyId_post, kc_id)\n",
    "mask = np.all([mask1, mask2], axis=0)\n",
    "print(f'Average number of multiglo connections to each KC: '\n",
    "      f'{np.sum(mask) / len(kc_id)}')"
   ]
  },
  {
   "cell_type": "markdown",
   "metadata": {
    "pycharm": {
     "name": "#%% md\n"
    }
   },
   "source": [
    "Connections from uniglo PNs to KCs are around ~6"
   ]
  },
  {
   "cell_type": "code",
   "execution_count": 328,
   "metadata": {
    "pycharm": {
     "name": "#%%\n"
    }
   },
   "outputs": [
    {
     "name": "stdout",
     "output_type": "stream",
     "text": [
      "Average number of uniglo connections to each KC: 6.03328133125325\n"
     ]
    }
   ],
   "source": [
    "mask1 = np.isin(dfw.bodyId_pre, uniglo_id)\n",
    "mask2 = np.isin(dfw.bodyId_post, kc_id)\n",
    "mask = np.all([mask1, mask2], axis=0)\n",
    "print(f'Average number of uniglo connections to each KC: '\n",
    "      f'{np.sum(mask) / len(kc_id)}')"
   ]
  },
  {
   "cell_type": "markdown",
   "metadata": {
    "pycharm": {
     "name": "#%% md\n"
    }
   },
   "source": [
    "Distributions of K"
   ]
  },
  {
   "cell_type": "code",
   "execution_count": 344,
   "metadata": {
    "pycharm": {
     "name": "#%%\n"
    }
   },
   "outputs": [],
   "source": [
    "# import scipy.stats\n",
    "#\n",
    "# n = 50\n",
    "# scipy.stats.binom.stats(n, p)"
   ]
  },
  {
   "cell_type": "code",
   "execution_count": 345,
   "metadata": {
    "pycharm": {
     "name": "#%%\n"
    }
   },
   "outputs": [
    {
     "data": {
      "image/png": "[encoded data removed]",
      "text/plain": [
       "<Figure size 432x288 with 1 Axes>"
      ]
     },
     "metadata": {
      "needs_background": "light"
     },
     "output_type": "display_data"
    }
   ],
   "source": [
    "mask1 = np.isin(dfw.bodyId_pre, uniglo_id)\n",
    "mask2 = np.isin(dfw.bodyId_post, kc_id)\n",
    "mask = np.all([mask1, mask2], axis=0)\n",
    "pn2kc = dfw[mask]\n",
    "\n",
    "kc_stats = pn2kc.groupby(['bodyId_post']).count()\n",
    "input_degree = kc_stats['bodyId_pre']\n",
    "\n",
    "plt.figure(figsize=(6, 4))\n",
    "plt.hist(input_degree, range=[0, 20], bins=20)\n",
    "plt.xticks(np.arange(0, 21));\n",
    "plt.title('K');"
   ]
  },
  {
   "cell_type": "markdown",
   "metadata": {
    "pycharm": {
     "name": "#%% md\n"
    }
   },
   "source": [
    "Distribution of output connections per PN is most definitely not equal between\n",
    " different glomeruli"
   ]
  },
  {
   "cell_type": "code",
   "execution_count": 332,
   "metadata": {
    "pycharm": {
     "name": "#%%\n"
    }
   },
   "outputs": [
    {
     "data": {
      "text/plain": [
       "Text(0.5, 1.0, 'Number of output connections per glomerulus (sorted by count)')"
      ]
     },
     "execution_count": 332,
     "metadata": {},
     "output_type": "execute_result"
    },
    {
     "data": {
      "image/png": "[encoded data removed]",
      "text/plain": [
       "<Figure size 1440x720 with 1 Axes>"
      ]
     },
     "metadata": {
      "needs_background": "light"
     },
     "output_type": "display_data"
    }
   ],
   "source": [
    "mask1 = np.isin(dfw.bodyId_pre, uniglo_id)\n",
    "mask2 = np.isin(dfw.bodyId_post, kc_id)\n",
    "mask = np.all([mask1, mask2], axis=0)\n",
    "pn2kc = dfw[mask]\n",
    "\n",
    "uniglos = uniglos.sort_values(by='instance')\n",
    "id_to_glo = dict(zip(uniglos['bodyId'], uniglos['instance']))\n",
    "glos = pn2kc.bodyId_pre.map(id_to_glo)\n",
    "a = glos.value_counts()\n",
    "\n",
    "\n",
    "f = plt.figure(figsize=(20, 10))\n",
    "ax = plt.gca()\n",
    "a.plot(kind='bar', ax=ax)\n",
    "plt.title('Number of output connections per glomerulus (sorted by count)')\n"
   ]
  },
  {
   "cell_type": "code",
   "execution_count": 333,
   "metadata": {
    "pycharm": {
     "name": "#%%\n"
    }
   },
   "outputs": [
    {
     "data": {
      "text/plain": [
       "Text(0.5, 1.0, 'Number of output connections per glomerulus (sorted by name)')"
      ]
     },
     "execution_count": 333,
     "metadata": {},
     "output_type": "execute_result"
    },
    {
     "data": {
      "image/png": "[encoded data removed]",
      "text/plain": [
       "<Figure size 1440x720 with 1 Axes>"
      ]
     },
     "metadata": {
      "needs_background": "light"
     },
     "output_type": "display_data"
    }
   ],
   "source": [
    "b = a.sort_index()\n",
    "f = plt.figure(figsize=(20, 10))\n",
    "ax = plt.gca()\n",
    "b.plot(kind='bar', ax=ax)\n",
    "plt.title('Number of output connections per glomerulus (sorted by name)')"
   ]
  }
 ],
 "metadata": {
  "kernelspec": {
   "display_name": "Python 3",
   "language": "python",
   "name": "python3"
  },
  "language_info": {
   "codemirror_mode": {
    "name": "ipython",
    "version": 3
   },
   "file_extension": ".py",
   "mimetype": "text/x-python",
   "name": "python",
   "nbconvert_exporter": "python",
   "pygments_lexer": "ipython3",
   "version": "3.6.12"
  }
 },
 "nbformat": 4,
 "nbformat_minor": 1
}