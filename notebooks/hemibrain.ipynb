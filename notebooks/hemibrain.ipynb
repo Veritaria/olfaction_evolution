{
 "cells": [
  {
   "cell_type": "code",
   "execution_count": 1,
   "metadata": {
    "collapsed": true
   },
   "outputs": [],
   "source": [
    "import os\n",
    "import pandas as pd\n",
    "import numpy as np\n",
    "from collections import defaultdict\n",
    "import matplotlib.pyplot as plt\n",
    "from pylab import rcParams\n",
    "import seaborn as sns\n",
    "import sys\n",
    "from pathlib import Path\n",
    "\n",
    "rcParams['figure.figsize'] = 3, 2\n",
    "rcParams['font.size'] = 14\n",
    "rcParams['axes.linewidth']=2\n",
    "rcParams['font.sans-serif'] = \"Arial\"\n",
    "rcParams['font.family'] = \"sans-serif\"\n",
    "rcParams['pdf.fonttype'] = 42\n",
    "rcParams['ps.fonttype'] = 42\n",
    "\n",
    "path = Path(os.getcwd())\n",
    "project_path = path.parent.absolute()\n",
    "figure_path = os.path.join(project_path, '_hemibrain', 'figures')\n",
    "hemibrain_path = os.path.join(project_path, '_hemibrain')\n",
    "sys.path.append(os.path.dirname(os.getcwd()))"
   ]
  },
  {
   "cell_type": "code",
   "execution_count": 2,
   "metadata": {
    "pycharm": {
     "name": "#%%\n"
    }
   },
   "outputs": [],
   "source": [
    "def include_col_entries_by_substring(df, col, substrings):\n",
    "    if isinstance(substrings, list):\n",
    "        masks = []\n",
    "        for substring in substrings:\n",
    "            masks.append(df[col].str.contains(substring, na=False))\n",
    "        mask = np.any(masks, axis=0)\n",
    "        df = df[mask]\n",
    "    else:\n",
    "        df = df[df[col].str.contains(substrings, na=False)]\n",
    "    return df\n",
    "\n",
    "def exclude_col_entries_by_substring(df, col, substrings):\n",
    "    if isinstance(substrings, list):\n",
    "        for substring in substrings:\n",
    "            df = df[~df[col].str.contains(substring, na=False)]\n",
    "    else:\n",
    "        df = df[~df[col].str.contains(substrings, na=False)]\n",
    "    return df\n",
    "\n",
    "def save_fig(save_path, figname='', dpi=1000, pdf=True, show=True):\n",
    "    os.makedirs(save_path, exist_ok=True)\n",
    "    plt.savefig(os.path.join(save_path, figname + '.png'),\n",
    "                dpi=dpi,\n",
    "                transparent=True)\n",
    "    if pdf:\n",
    "        plt.savefig(os.path.join(save_path, figname + '.pdf'), transparent=True)\n",
    "    if show:\n",
    "        plt.show()\n",
    "    print('Figure saved at: {}'.format(os.path.join(save_path, figname)))\n",
    "    plt.close()\n",
    "\n",
    "\n",
    "def pretty_fig(figsize=(3, 2), rect=(0.3, 0.3, 0.5, 0.5), rows=1, cols=1):\n",
    "    if rows > 1 or cols > 1:\n",
    "        f, ax = plt.subplots(nrows=rows, ncols=cols, figsize=figsize)\n",
    "        for a in ax:\n",
    "            plt.sca(a)\n",
    "            sns.despine()\n",
    "    else:\n",
    "        f = plt.figure(figsize=figsize)\n",
    "        ax = f.add_axes(rect)\n",
    "    sns.despine()\n",
    "    return f, ax"
   ]
  },
  {
   "cell_type": "code",
   "execution_count": 3,
   "metadata": {
    "pycharm": {
     "name": "#%%\n"
    }
   },
   "outputs": [],
   "source": [
    "d = r'C:\\Users\\Peter\\Dropbox\\olfaction_evolution\\hemibrain'\n",
    "conns = 'traced-total-connections.csv'\n",
    "names = 'traced-neurons.csv'\n",
    "\n",
    "dfw = pd.read_csv(os.path.join(d, conns))\n",
    "dfn = pd.read_csv(os.path.join(d, names))"
   ]
  },
  {
   "cell_type": "code",
   "execution_count": 4,
   "metadata": {
    "pycharm": {
     "name": "#%%\n"
    }
   },
   "outputs": [
    {
     "data": {
      "text/plain": "      bodyId    type             instance\n0  200326126   CL141              CL141_L\n1  202916528    FS4C      FS4C(FQ12)_C4_R\n2  203253072    FS4A  FS4A(AB)(FQ12)_C3_R\n3  203253253  SMP505      SMP505(PDM22)_L\n4  203257652    FS4C      FS4C(FQ12)_C6_R",
      "text/html": "<div>\n<style scoped>\n    .dataframe tbody tr th:only-of-type {\n        vertical-align: middle;\n    }\n\n    .dataframe tbody tr th {\n        vertical-align: top;\n    }\n\n    .dataframe thead th {\n        text-align: right;\n    }\n</style>\n<table border=\"1\" class=\"dataframe\">\n  <thead>\n    <tr style=\"text-align: right;\">\n      <th></th>\n      <th>bodyId</th>\n      <th>type</th>\n      <th>instance</th>\n    </tr>\n  </thead>\n  <tbody>\n    <tr>\n      <th>0</th>\n      <td>200326126</td>\n      <td>CL141</td>\n      <td>CL141_L</td>\n    </tr>\n    <tr>\n      <th>1</th>\n      <td>202916528</td>\n      <td>FS4C</td>\n      <td>FS4C(FQ12)_C4_R</td>\n    </tr>\n    <tr>\n      <th>2</th>\n      <td>203253072</td>\n      <td>FS4A</td>\n      <td>FS4A(AB)(FQ12)_C3_R</td>\n    </tr>\n    <tr>\n      <th>3</th>\n      <td>203253253</td>\n      <td>SMP505</td>\n      <td>SMP505(PDM22)_L</td>\n    </tr>\n    <tr>\n      <th>4</th>\n      <td>203257652</td>\n      <td>FS4C</td>\n      <td>FS4C(FQ12)_C6_R</td>\n    </tr>\n  </tbody>\n</table>\n</div>"
     },
     "execution_count": 4,
     "metadata": {},
     "output_type": "execute_result"
    }
   ],
   "source": [
    "dfn.head()"
   ]
  },
  {
   "cell_type": "markdown",
   "source": [
    "LH neurons"
   ],
   "metadata": {
    "collapsed": false,
    "pycharm": {
     "name": "#%% md\n"
    }
   }
  },
  {
   "cell_type": "code",
   "execution_count": 5,
   "outputs": [
    {
     "name": "stdout",
     "output_type": "stream",
     "text": [
      "1495\n",
      "LHPV6a1_R       14\n",
      "LHAV5a2_a_R     14\n",
      "LHAV2c1_R       13\n",
      "LHAV6a1_b_R      8\n",
      "LHAV2k4_R        8\n",
      "                ..\n",
      "LHPV5e1_R        1\n",
      "LHPD4d2_a_R      1\n",
      "LHPV4i2_R        1\n",
      "LHCENT13_c_R     1\n",
      "LHPV4j4_R        1\n",
      "Name: instance, Length: 688, dtype: int64\n"
     ]
    }
   ],
   "source": [
    "lhs = include_col_entries_by_substring(dfn, 'instance', 'LH')\n",
    "print(lhs['instance'].count())\n",
    "print(lhs['instance'].value_counts())"
   ],
   "metadata": {
    "collapsed": false,
    "pycharm": {
     "name": "#%%\n"
    }
   }
  },
  {
   "cell_type": "markdown",
   "source": [
    "MBONS"
   ],
   "metadata": {
    "collapsed": false,
    "pycharm": {
     "name": "#%% md\n"
    }
   }
  },
  {
   "cell_type": "code",
   "execution_count": 6,
   "outputs": [
    {
     "name": "stdout",
     "output_type": "stream",
     "text": [
      "44\n",
      "MBON10(B'1)_R                3\n",
      "MBON07(a1)_R                 2\n",
      "MBON15(a'1)_R                2\n",
      "MBON15-like(a'1a'2)_R        2\n",
      "MBON12(y2a'1)_R              2\n",
      "MBON19(a2p3p)_R              2\n",
      "MBON14(a3)_R                 2\n",
      "MBON11(y1pedc>a/B)_R         1\n",
      "MBON01(y5B'2a)_R             1\n",
      "MBON27(y5d)_R                1\n",
      "MBON05(y4>y1y2)_R            1\n",
      "MBON22(calyx)_R              1\n",
      "MBON20(y1y2)_R               1\n",
      "MBON06(B1>a)_R               1\n",
      "MBON25(y1y2)_R               1\n",
      "MBON34(y2)_R                 1\n",
      "MBON32(y2)_R                 1\n",
      "MBON02(B2B'2a)_R             1\n",
      "MBON30(y1y2y3)_R             1\n",
      "MBON33(y2y3)_R               1\n",
      "MBON31(a'1a)_R               1\n",
      "MBON21(y4y5)_R               1\n",
      "MBON17(a'3m)_R               1\n",
      "MBON04(B'2mp_bilateral)_R    1\n",
      "MBON13(a'2)_R                1\n",
      "MBON17-like(a'2a'3)_R        1\n",
      "MBON16(a'3ap)_R              1\n",
      "MBON24(B2y5)_R               1\n",
      "MBON09(y3B'1)_R              1\n",
      "MBON03(B'2mp)_R              1\n",
      "MBON18(a2sc)_R               1\n",
      "MBON23(a2sp)_R               1\n",
      "MBON16-like(a'3a)_R          1\n",
      "MBON29(y4y5)_R               1\n",
      "MBON35(y2)_R                 1\n",
      "MBON26(B'2d)_R               1\n",
      "Name: instance, dtype: int64\n"
     ]
    }
   ],
   "source": [
    "lhs = include_col_entries_by_substring(dfn, 'instance', 'MBON')\n",
    "lhs = include_col_entries_by_substring(lhs, 'instance', '_R')\n",
    "print(lhs['instance'].count())\n",
    "print(lhs['instance'].value_counts())"
   ],
   "metadata": {
    "collapsed": false,
    "pycharm": {
     "name": "#%%\n"
    }
   }
  },
  {
   "cell_type": "markdown",
   "metadata": {
    "pycharm": {
     "name": "#%% md\n"
    }
   },
   "source": [
    "ORNS"
   ]
  },
  {
   "cell_type": "code",
   "execution_count": 7,
   "metadata": {
    "pycharm": {
     "name": "#%%\n"
    }
   },
   "outputs": [
    {
     "name": "stdout",
     "output_type": "stream",
     "text": [
      "2\n",
      "ORN_DM3_L    1\n",
      "ORN_DM6_L    1\n",
      "Name: instance, dtype: int64\n"
     ]
    }
   ],
   "source": [
    "orns = include_col_entries_by_substring(dfn, 'instance', 'OR')\n",
    "print(orns['instance'].count())\n",
    "print(orns['instance'].value_counts())"
   ]
  },
  {
   "cell_type": "markdown",
   "metadata": {
    "pycharm": {
     "name": "#%% md\n"
    }
   },
   "source": [
    "KENYON CELLS"
   ]
  },
  {
   "cell_type": "code",
   "execution_count": 8,
   "metadata": {
    "pycharm": {
     "name": "#%%\n"
    }
   },
   "outputs": [
    {
     "name": "stdout",
     "output_type": "stream",
     "text": [
      "1931\n",
      "KCg-m_R            590\n",
      "KCab-m_R           354\n",
      "KCab-c_R           252\n",
      "KCab-s_R           223\n",
      "KCa'b'-ap2_R       127\n",
      "KCa'b'-m_R         119\n",
      "KCg-d_R             99\n",
      "KCa'b'-ap1_R        91\n",
      "KCab-p_R            60\n",
      "KCg-t_R              8\n",
      "KC(incomplete?)      2\n",
      "KCy(half)            2\n",
      "KCg-s4_R             1\n",
      "KCg-s1(super)_R      1\n",
      "KCg-s3_R             1\n",
      "KCg-s2(super)_R      1\n",
      "Name: instance, dtype: int64\n"
     ]
    }
   ],
   "source": [
    "filtered = include_col_entries_by_substring(dfn, 'instance', 'KC')\n",
    "print(filtered['instance'].count())\n",
    "print(filtered['instance'].value_counts())"
   ]
  },
  {
   "cell_type": "code",
   "execution_count": 9,
   "metadata": {
    "pycharm": {
     "name": "#%%\n"
    }
   },
   "outputs": [
    {
     "name": "stdout",
     "output_type": "stream",
     "text": [
      "1923\n",
      "KCg-m_R         590\n",
      "KCab-m_R        354\n",
      "KCab-c_R        252\n",
      "KCab-s_R        223\n",
      "KCa'b'-ap2_R    127\n",
      "KCa'b'-m_R      119\n",
      "KCg-d_R          99\n",
      "KCa'b'-ap1_R     91\n",
      "KCab-p_R         60\n",
      "KCg-t_R           8\n",
      "Name: instance, dtype: int64\n"
     ]
    }
   ],
   "source": [
    "kcn = exclude_col_entries_by_substring(filtered, 'instance',\n",
    "                                            ['KCg-s', 'KCy', 'incomplete'])\n",
    "print(kcn['instance'].count())\n",
    "print(kcn['instance'].value_counts())"
   ]
  },
  {
   "cell_type": "markdown",
   "metadata": {
    "pycharm": {
     "name": "#%% md\n"
    }
   },
   "source": [
    "PNs\n",
    "\n",
    "See https://elifesciences.org/articles/57443, Antennal lobe neuropil neurons\n",
    "for nomenclature"
   ]
  },
  {
   "cell_type": "code",
   "execution_count": 10,
   "metadata": {
    "pycharm": {
     "name": "#%%\n"
    }
   },
   "outputs": [
    {
     "data": {
      "text/plain": "['DA1_lPN_R',\n 'DA1_vPN_R',\n 'DA2_lPN_R',\n 'DA3_adPN_R',\n 'DA4l_adPN_R',\n 'DA4m_adPN_R',\n 'DC1_adPN_R',\n 'DC2_adPN_R',\n 'DC3_adPN_R',\n 'DC4_adPN_R',\n 'DC4_vPN_R',\n 'DL1_adPN_R',\n 'DL2d_adPN_R',\n 'DL2d_vPN_R',\n 'DL2v_adPN_R',\n 'DL3_lPN_R',\n 'DL4_adPN_R',\n 'DL5_adPN_R',\n 'DM1_lPN_R',\n 'DM2_lPN_R',\n 'DM3_adPN_R',\n 'DM3_vPN_R',\n 'DM4_adPN_R',\n 'DM4_vPN_R',\n 'DM5_lPN_R',\n 'DM6_adPN_R',\n 'DP1l_adPN_R',\n 'DP1l_vPN_R',\n 'DP1m_adPN_R',\n 'DP1m_vPN_R',\n 'D_adPN_R',\n 'LPN_R',\n 'MZ_lv2PN_R',\n 'MZ_lvPN(multiAL+SEZ)_R',\n 'M_adPNm3_R',\n 'M_adPNm4_R',\n 'M_adPNm5_R',\n 'M_adPNm6_R',\n 'M_adPNm7_R',\n 'M_adPNm8_R',\n 'M_ilPN8t91_R',\n 'M_ilPNm90_R',\n 'M_imPNl92_R',\n 'M_l2PN10t19_R',\n 'M_l2PN3t18_R',\n 'M_l2PNl20_R',\n 'M_l2PNl21_R',\n 'M_l2PNl22_R',\n 'M_l2PNl23_R',\n 'M_l2PNm14_R',\n 'M_l2PNm15_R',\n 'M_l2PNm16_R',\n 'M_l2PNm17_R',\n 'M_lPNm11A_R',\n 'M_lPNm11B_R',\n 'M_lPNm11C_R',\n 'M_lPNm11D_R',\n 'M_lPNm12_R',\n 'M_lPNm13_R',\n 'M_lv2PN9t49_R',\n 'M_lvPNm24_R',\n 'M_lvPNm25_R',\n 'M_lvPNm26_R',\n 'M_lvPNm27_R',\n 'M_lvPNm28_R',\n 'M_lvPNm29_R',\n 'M_lvPNm30_R',\n 'M_lvPNm31_R',\n 'M_lvPNm32_R',\n 'M_lvPNm33_R',\n 'M_lvPNm34_R',\n 'M_lvPNm35_R',\n 'M_lvPNm36_R',\n 'M_lvPNm37_R',\n 'M_lvPNm38_R',\n 'M_lvPNm39_R',\n 'M_lvPNm40_R',\n 'M_lvPNm41_R',\n 'M_lvPNm42_R',\n 'M_lvPNm43_R',\n 'M_lvPNm44_R',\n 'M_lvPNm45_R',\n 'M_lvPNm46_R',\n 'M_lvPNm47_R',\n 'M_lvPNm48_R',\n 'M_smPN6t2_L',\n 'M_smPNm1_L',\n 'M_spPN4t9_R',\n 'M_spPN5t10(PVM01)_L',\n 'M_spPN5t10_R',\n 'M_vPNml50_R',\n 'M_vPNml51_R',\n 'M_vPNml52_R',\n 'M_vPNml53_R',\n 'M_vPNml54_R',\n 'M_vPNml55_R',\n 'M_vPNml56_R',\n 'M_vPNml57_R',\n 'M_vPNml58_R',\n 'M_vPNml59_R',\n 'M_vPNml60_R',\n 'M_vPNml61_R',\n 'M_vPNml62_R',\n 'M_vPNml63_R',\n 'M_vPNml64_R',\n 'M_vPNml65_R',\n 'M_vPNml66_R',\n 'M_vPNml67_R',\n 'M_vPNml68_R',\n 'M_vPNml69_R',\n 'M_vPNml70_R',\n 'M_vPNml71_R',\n 'M_vPNml72_R',\n 'M_vPNml73_R',\n 'M_vPNml74_R',\n 'M_vPNml75_R',\n 'M_vPNml76_R',\n 'M_vPNml77_R',\n 'M_vPNml78_R',\n 'M_vPNml79_R',\n 'M_vPNml80_R',\n 'M_vPNml81_R',\n 'M_vPNml82_R',\n 'M_vPNml83_R',\n 'M_vPNml84_R',\n 'M_vPNml85_R',\n 'M_vPNml86_R',\n 'M_vPNml87_R',\n 'M_vPNml88_R',\n 'M_vPNml89_R',\n 'VA1d_adPN_R',\n 'VA1d_vPN_R',\n 'VA1v_adPN_R',\n 'VA1v_vPN_R',\n 'VA2_adPN_R',\n 'VA3_adPN_R',\n 'VA4_lPN_R',\n 'VA5_lPN_R',\n 'VA6_adPN_R',\n 'VA7l_adPN_R',\n 'VA7m_lPN_R',\n 'VC1_lPN_R',\n 'VC2_lPN_R',\n 'VC3l_adPN_R',\n 'VC3m_lvPN_R',\n 'VC4_adPN_R',\n 'VC5_adPN_R',\n 'VC5_lvPN_R',\n 'VL1_ilPN',\n 'VL1_vPN_R',\n 'VL2a_adPN_R',\n 'VL2a_vPN_R',\n 'VL2p_adPN_R',\n 'VL2p_vPN_R',\n 'VM1_lPN_R',\n 'VM2_adPN_R',\n 'VM3_adPN_R',\n 'VM4_adPN_R',\n 'VM4_lvPN_R',\n 'VM5d_adPN_R',\n 'VM5v_adPN_R',\n 'VM7d_adPN_R',\n 'VM7v_adPN_R',\n 'VP1d+VP4_l2PN1_R',\n 'VP1d+VP4_l2PN2(lALT)_R',\n 'VP1d_il2PN(dALT)',\n 'VP1l+VP3_ilPN',\n 'VP1l+_lvPN_R',\n 'VP1m+VP2_lvPN1_R',\n 'VP1m+VP2_lvPN2_R',\n 'VP1m+VP5_ilPN',\n 'VP1m+_lvPN(t2ALT)_R',\n 'VP1m_l2PN(lALT)_R',\n 'VP2+VC5_l2PN(lALT)_R',\n 'VP2+Z_lvPN(uniAL+SEZ)_R',\n 'VP2+_adPN_R',\n 'VP2_adPN_R',\n 'VP2_l2PN(lALT)_R',\n 'VP3+VP1l_ivPN',\n 'VP3+_l2PN(t10ALT)_R',\n 'VP3+_vPN(t10ALT)_R',\n 'VP4+VL1_l2PN(t3ALT)_R',\n 'VP4+_vPN(mlALT)_R',\n 'VP4_vPN(mlALT)_R',\n 'VP5+VP2_l2PN(t10ALT)_R',\n 'VP5+VP3_l2PN(t10ALT)_R',\n 'VP5+Z_adPN(uniAL+SEZ)_R',\n 'VP5+_l2PN(t10ALT)_R',\n 'V_ilPN',\n 'V_l2PN_R',\n 'WEDPN10A_R',\n 'WEDPN10B_R',\n 'WEDPN11_R',\n 'WEDPN12_R',\n 'WEDPN13_R',\n 'WEDPN14_R',\n 'WEDPN15_R',\n 'WEDPN16_a_R',\n 'WEDPN16_b_R',\n 'WEDPN16_c_R',\n 'WEDPN16_d_R',\n 'WEDPN17_a_R',\n 'WEDPN17_b_R',\n 'WEDPN17_c_R',\n 'WEDPN18_R',\n 'WEDPN19_R',\n 'WEDPN1A_a_R',\n 'WEDPN1A_b_R',\n 'WEDPN1B_R',\n 'WEDPN2A_R',\n 'WEDPN2B_R',\n 'WEDPN3_R',\n 'WEDPN4_R',\n 'WEDPN5_R',\n 'WEDPN6A_R',\n 'WEDPN6B_R',\n 'WEDPN6C_R',\n 'WEDPN7A_R',\n 'WEDPN7B_R',\n 'WEDPN7C_R',\n 'WEDPN8A_R',\n 'WEDPN8B_R',\n 'WEDPN8C_R',\n 'WEDPN8D_R',\n 'WEDPN9_R',\n 'Z_vPNml1(noAL+SEZ)_R']"
     },
     "execution_count": 10,
     "metadata": {},
     "output_type": "execute_result"
    }
   ],
   "source": [
    "filtered = dfn[dfn.instance.str.contains(\"PN\", na=False)]\n",
    "sorted(filtered['instance'].unique())"
   ]
  },
  {
   "cell_type": "code",
   "execution_count": 11,
   "metadata": {
    "pycharm": {
     "name": "#%%\n"
    }
   },
   "outputs": [],
   "source": [
    "filtered = include_col_entries_by_substring(dfn, 'instance', 'PN')\n",
    "# mechanosensory wedge projection neurons. Not antennal lobe\n",
    "filtered = exclude_col_entries_by_substring(filtered, 'instance', 'WEDPN')\n",
    "# lateral posterior neuron, circadian clock neuron\n",
    "filtered = exclude_col_entries_by_substring(filtered, 'instance', 'LPN')\n",
    "# left antennal lobe neurons\n",
    "filtered = exclude_col_entries_by_substring(filtered, 'instance', '_L')\n",
    "# thermosensory, hygrosensory neurons\n",
    "filtered = exclude_col_entries_by_substring(filtered, 'instance', 'VP')\n",
    "# Subesophagael\n",
    "filtered = exclude_col_entries_by_substring(filtered, 'instance', 'Z_')\n",
    "# multiglomerular neurons\n",
    "filtered = exclude_col_entries_by_substring(\n",
    "    filtered,\n",
    "    'instance',\n",
    "    ['M_', 'MZ_lvPN', 'lv2PN'])"
   ]
  },
  {
   "cell_type": "markdown",
   "metadata": {
    "pycharm": {
     "name": "#%% md\n"
    }
   },
   "source": [
    "Uniglomerular PNs (either in the format of \"gloname_\" or \"gloname+_\", the latter suggesting that it targets a single glomerulus and another region)"
   ]
  },
  {
   "cell_type": "code",
   "execution_count": 12,
   "metadata": {
    "pycharm": {
     "name": "#%%\n"
    },
    "scrolled": true
   },
   "outputs": [
    {
     "name": "stdout",
     "output_type": "stream",
     "text": [
      "Number of unique uPNs: 66\n"
     ]
    },
    {
     "data": {
      "text/plain": "['DA1_lPN_R',\n 'DA1_vPN_R',\n 'DA2_lPN_R',\n 'DA3_adPN_R',\n 'DA4l_adPN_R',\n 'DA4m_adPN_R',\n 'DC1_adPN_R',\n 'DC2_adPN_R',\n 'DC3_adPN_R',\n 'DC4_adPN_R',\n 'DC4_vPN_R',\n 'DL1_adPN_R',\n 'DL2d_adPN_R',\n 'DL2d_vPN_R',\n 'DL2v_adPN_R',\n 'DL3_lPN_R',\n 'DL4_adPN_R',\n 'DL5_adPN_R',\n 'DM1_lPN_R',\n 'DM2_lPN_R',\n 'DM3_adPN_R',\n 'DM3_vPN_R',\n 'DM4_adPN_R',\n 'DM4_vPN_R',\n 'DM5_lPN_R',\n 'DM6_adPN_R',\n 'DP1l_adPN_R',\n 'DP1l_vPN_R',\n 'DP1m_adPN_R',\n 'DP1m_vPN_R',\n 'D_adPN_R',\n 'VA1d_adPN_R',\n 'VA1d_vPN_R',\n 'VA1v_adPN_R',\n 'VA1v_vPN_R',\n 'VA2_adPN_R',\n 'VA3_adPN_R',\n 'VA4_lPN_R',\n 'VA5_lPN_R',\n 'VA6_adPN_R',\n 'VA7l_adPN_R',\n 'VA7m_lPN_R',\n 'VC1_lPN_R',\n 'VC2_lPN_R',\n 'VC3l_adPN_R',\n 'VC3m_lvPN_R',\n 'VC4_adPN_R',\n 'VC5_adPN_R',\n 'VC5_lvPN_R',\n 'VL1_ilPN',\n 'VL1_vPN_R',\n 'VL2a_adPN_R',\n 'VL2a_vPN_R',\n 'VL2p_adPN_R',\n 'VL2p_vPN_R',\n 'VM1_lPN_R',\n 'VM2_adPN_R',\n 'VM3_adPN_R',\n 'VM4_adPN_R',\n 'VM4_lvPN_R',\n 'VM5d_adPN_R',\n 'VM5v_adPN_R',\n 'VM7d_adPN_R',\n 'VM7v_adPN_R',\n 'V_ilPN',\n 'V_l2PN_R']"
     },
     "execution_count": 12,
     "metadata": {},
     "output_type": "execute_result"
    }
   ],
   "source": [
    "mask = []\n",
    "for v in filtered['instance']:\n",
    "    v = v[:v.find('_')]\n",
    "    if '+' not in v:\n",
    "        mask.append(True)\n",
    "    else:\n",
    "        if v[-1] == '+':\n",
    "            mask.append(True)\n",
    "        else:\n",
    "            mask.append(False)\n",
    "uniglos = filtered[mask]\n",
    "print(f'Number of unique uPNs: {len(np.unique(uniglos.instance))}')\n",
    "sorted(np.unique(uniglos.instance))"
   ]
  },
  {
   "cell_type": "markdown",
   "metadata": {
    "pycharm": {
     "name": "#%% md\n"
    }
   },
   "source": [
    "Biglo PNs"
   ]
  },
  {
   "cell_type": "code",
   "execution_count": 13,
   "metadata": {
    "pycharm": {
     "name": "#%%\n"
    }
   },
   "outputs": [
    {
     "name": "stdout",
     "output_type": "stream",
     "text": [
      "Number of unique bigloPNs: 0\n"
     ]
    },
    {
     "data": {
      "text/plain": "[]"
     },
     "execution_count": 13,
     "metadata": {},
     "output_type": "execute_result"
    }
   ],
   "source": [
    "mask = []\n",
    "for v in filtered['instance']:\n",
    "    v = v[:v.find('_')]\n",
    "    if '+' not in v:\n",
    "        mask.append(False)\n",
    "    else:\n",
    "        if v[-1] == '+':\n",
    "            mask.append(False)\n",
    "        else:\n",
    "            mask.append(True)\n",
    "biglos = filtered[mask]\n",
    "print(f'Number of unique bigloPNs: {len(np.unique(biglos.instance))}')\n",
    "sorted(np.unique(biglos.instance))\n"
   ]
  },
  {
   "cell_type": "markdown",
   "metadata": {
    "pycharm": {
     "name": "#%% md\n"
    }
   },
   "source": [
    "Multiglomerular PNs"
   ]
  },
  {
   "cell_type": "code",
   "execution_count": 14,
   "metadata": {
    "pycharm": {
     "name": "#%%\n"
    },
    "scrolled": true
   },
   "outputs": [
    {
     "name": "stdout",
     "output_type": "stream",
     "text": [
      "Number of unique mPNs: 98\n"
     ]
    },
    {
     "data": {
      "text/plain": "['MZ_lv2PN_R',\n 'MZ_lvPN(multiAL+SEZ)_R',\n 'M_adPNm3_R',\n 'M_adPNm4_R',\n 'M_adPNm5_R',\n 'M_adPNm6_R',\n 'M_adPNm7_R',\n 'M_adPNm8_R',\n 'M_ilPN8t91_R',\n 'M_ilPNm90_R',\n 'M_imPNl92_R',\n 'M_l2PN10t19_R',\n 'M_l2PN3t18_R',\n 'M_l2PNl20_R',\n 'M_l2PNl21_R',\n 'M_l2PNl22_R',\n 'M_l2PNl23_R',\n 'M_l2PNm14_R',\n 'M_l2PNm15_R',\n 'M_l2PNm16_R',\n 'M_l2PNm17_R',\n 'M_lPNm11A_R',\n 'M_lPNm11B_R',\n 'M_lPNm11C_R',\n 'M_lPNm11D_R',\n 'M_lPNm12_R',\n 'M_lPNm13_R',\n 'M_lv2PN9t49_R',\n 'M_lvPNm24_R',\n 'M_lvPNm25_R',\n 'M_lvPNm26_R',\n 'M_lvPNm27_R',\n 'M_lvPNm28_R',\n 'M_lvPNm29_R',\n 'M_lvPNm30_R',\n 'M_lvPNm31_R',\n 'M_lvPNm32_R',\n 'M_lvPNm33_R',\n 'M_lvPNm34_R',\n 'M_lvPNm35_R',\n 'M_lvPNm36_R',\n 'M_lvPNm37_R',\n 'M_lvPNm38_R',\n 'M_lvPNm39_R',\n 'M_lvPNm40_R',\n 'M_lvPNm41_R',\n 'M_lvPNm42_R',\n 'M_lvPNm43_R',\n 'M_lvPNm44_R',\n 'M_lvPNm45_R',\n 'M_lvPNm46_R',\n 'M_lvPNm47_R',\n 'M_lvPNm48_R',\n 'M_smPN6t2_L',\n 'M_smPNm1_L',\n 'M_spPN4t9_R',\n 'M_spPN5t10(PVM01)_L',\n 'M_spPN5t10_R',\n 'M_vPNml50_R',\n 'M_vPNml51_R',\n 'M_vPNml52_R',\n 'M_vPNml53_R',\n 'M_vPNml54_R',\n 'M_vPNml55_R',\n 'M_vPNml56_R',\n 'M_vPNml57_R',\n 'M_vPNml58_R',\n 'M_vPNml59_R',\n 'M_vPNml60_R',\n 'M_vPNml61_R',\n 'M_vPNml62_R',\n 'M_vPNml63_R',\n 'M_vPNml64_R',\n 'M_vPNml65_R',\n 'M_vPNml66_R',\n 'M_vPNml67_R',\n 'M_vPNml68_R',\n 'M_vPNml69_R',\n 'M_vPNml70_R',\n 'M_vPNml71_R',\n 'M_vPNml72_R',\n 'M_vPNml73_R',\n 'M_vPNml74_R',\n 'M_vPNml75_R',\n 'M_vPNml76_R',\n 'M_vPNml77_R',\n 'M_vPNml78_R',\n 'M_vPNml79_R',\n 'M_vPNml80_R',\n 'M_vPNml81_R',\n 'M_vPNml82_R',\n 'M_vPNml83_R',\n 'M_vPNml84_R',\n 'M_vPNml85_R',\n 'M_vPNml86_R',\n 'M_vPNml87_R',\n 'M_vPNml88_R',\n 'M_vPNml89_R']"
     },
     "execution_count": 14,
     "metadata": {},
     "output_type": "execute_result"
    }
   ],
   "source": [
    "filtered = include_col_entries_by_substring(dfn, 'instance', 'PN')\n",
    "multiglos = include_col_entries_by_substring(\n",
    "    filtered,\n",
    "    'instance',\n",
    "    ['M_', 'MZ_'])\n",
    "print(f'Number of unique mPNs: {len(np.unique(multiglos.instance))}')\n",
    "sorted(np.unique(multiglos.instance))"
   ]
  },
  {
   "cell_type": "code",
   "execution_count": 15,
   "metadata": {
    "pycharm": {
     "name": "#%%\n"
    }
   },
   "outputs": [],
   "source": [
    "orn_id= orns.bodyId.to_numpy()\n",
    "uniglo_id =uniglos.bodyId.to_numpy()\n",
    "biglo_id =biglos.bodyId.to_numpy()\n",
    "multiglo_id =multiglos.bodyId.to_numpy()\n",
    "kc_id = kcn.bodyId.to_numpy()\n",
    "lh_id = lhs.bodyId.to_numpy()"
   ]
  },
  {
   "cell_type": "markdown",
   "metadata": {
    "pycharm": {
     "name": "#%% md\n"
    }
   },
   "source": [
    "RESULTS:"
   ]
  },
  {
   "cell_type": "markdown",
   "source": [
    "##### ORN to uPN connectivity"
   ],
   "metadata": {
    "collapsed": false,
    "pycharm": {
     "name": "#%% md\n"
    }
   }
  },
  {
   "cell_type": "code",
   "execution_count": 16,
   "outputs": [
    {
     "data": {
      "text/plain": "         bodyId_pre  bodyId_post  weight\n2664357  1763149978   5813070872      14\n2664363  1763149978   1764091241      17\n2664367  1763149978   5813039235      11\n2664368  1763149978    788306624      15\n3545937  5901201372   1570685283       5\n3545944  5901201372    755518957      28",
      "text/html": "<div>\n<style scoped>\n    .dataframe tbody tr th:only-of-type {\n        vertical-align: middle;\n    }\n\n    .dataframe tbody tr th {\n        vertical-align: top;\n    }\n\n    .dataframe thead th {\n        text-align: right;\n    }\n</style>\n<table border=\"1\" class=\"dataframe\">\n  <thead>\n    <tr style=\"text-align: right;\">\n      <th></th>\n      <th>bodyId_pre</th>\n      <th>bodyId_post</th>\n      <th>weight</th>\n    </tr>\n  </thead>\n  <tbody>\n    <tr>\n      <th>2664357</th>\n      <td>1763149978</td>\n      <td>5813070872</td>\n      <td>14</td>\n    </tr>\n    <tr>\n      <th>2664363</th>\n      <td>1763149978</td>\n      <td>1764091241</td>\n      <td>17</td>\n    </tr>\n    <tr>\n      <th>2664367</th>\n      <td>1763149978</td>\n      <td>5813039235</td>\n      <td>11</td>\n    </tr>\n    <tr>\n      <th>2664368</th>\n      <td>1763149978</td>\n      <td>788306624</td>\n      <td>15</td>\n    </tr>\n    <tr>\n      <th>3545937</th>\n      <td>5901201372</td>\n      <td>1570685283</td>\n      <td>5</td>\n    </tr>\n    <tr>\n      <th>3545944</th>\n      <td>5901201372</td>\n      <td>755518957</td>\n      <td>28</td>\n    </tr>\n  </tbody>\n</table>\n</div>"
     },
     "execution_count": 16,
     "metadata": {},
     "output_type": "execute_result"
    }
   ],
   "source": [
    "mask1 = np.isin(dfw.bodyId_pre, orn_id)\n",
    "mask2 = np.isin(dfw.bodyId_post, uniglo_id)\n",
    "mask = np.all([mask1, mask2], axis=0)\n",
    "\n",
    "dfw[mask]\n",
    "# print(f'Average number of connections per ORN: '\n",
    "#       f'{np.sum(mask) / len(dfw[mask].bodyId_pre.unique())}')\n"
   ],
   "metadata": {
    "collapsed": false,
    "pycharm": {
     "name": "#%%\n"
    }
   }
  },
  {
   "cell_type": "code",
   "execution_count": 17,
   "outputs": [
    {
     "data": {
      "text/plain": "      bodyId    type             instance\n0  200326126   CL141              CL141_L\n1  202916528    FS4C      FS4C(FQ12)_C4_R\n2  203253072    FS4A  FS4A(AB)(FQ12)_C3_R\n3  203253253  SMP505      SMP505(PDM22)_L\n4  203257652    FS4C      FS4C(FQ12)_C6_R",
      "text/html": "<div>\n<style scoped>\n    .dataframe tbody tr th:only-of-type {\n        vertical-align: middle;\n    }\n\n    .dataframe tbody tr th {\n        vertical-align: top;\n    }\n\n    .dataframe thead th {\n        text-align: right;\n    }\n</style>\n<table border=\"1\" class=\"dataframe\">\n  <thead>\n    <tr style=\"text-align: right;\">\n      <th></th>\n      <th>bodyId</th>\n      <th>type</th>\n      <th>instance</th>\n    </tr>\n  </thead>\n  <tbody>\n    <tr>\n      <th>0</th>\n      <td>200326126</td>\n      <td>CL141</td>\n      <td>CL141_L</td>\n    </tr>\n    <tr>\n      <th>1</th>\n      <td>202916528</td>\n      <td>FS4C</td>\n      <td>FS4C(FQ12)_C4_R</td>\n    </tr>\n    <tr>\n      <th>2</th>\n      <td>203253072</td>\n      <td>FS4A</td>\n      <td>FS4A(AB)(FQ12)_C3_R</td>\n    </tr>\n    <tr>\n      <th>3</th>\n      <td>203253253</td>\n      <td>SMP505</td>\n      <td>SMP505(PDM22)_L</td>\n    </tr>\n    <tr>\n      <th>4</th>\n      <td>203257652</td>\n      <td>FS4C</td>\n      <td>FS4C(FQ12)_C6_R</td>\n    </tr>\n  </tbody>\n</table>\n</div>"
     },
     "execution_count": 17,
     "metadata": {},
     "output_type": "execute_result"
    }
   ],
   "source": [
    "dfn.head()"
   ],
   "metadata": {
    "collapsed": false,
    "pycharm": {
     "name": "#%%\n"
    }
   }
  },
  {
   "cell_type": "code",
   "execution_count": 18,
   "outputs": [
    {
     "name": "stdout",
     "output_type": "stream",
     "text": [
      "hi\n",
      "15867    ORN_DM6_L\n",
      "Name: instance, dtype: object\n",
      "20992    DM6_adPN_R\n",
      "Name: instance, dtype: object\n",
      "hi\n",
      "15867    ORN_DM6_L\n",
      "Name: instance, dtype: object\n",
      "15870    DM6_adPN_R\n",
      "Name: instance, dtype: object\n",
      "hi\n",
      "15867    ORN_DM6_L\n",
      "Name: instance, dtype: object\n",
      "19987    DM6_adPN_R\n",
      "Name: instance, dtype: object\n",
      "hi\n",
      "15867    ORN_DM6_L\n",
      "Name: instance, dtype: object\n",
      "5954    DM6_adPN_R\n",
      "Name: instance, dtype: object\n",
      "hi\n",
      "21601    ORN_DM3_L\n",
      "Name: instance, dtype: object\n",
      "14477    DM3_vPN_R\n",
      "Name: instance, dtype: object\n",
      "hi\n",
      "21601    ORN_DM3_L\n",
      "Name: instance, dtype: object\n",
      "5562    DM3_adPN_R\n",
      "Name: instance, dtype: object\n"
     ]
    }
   ],
   "source": [
    "for id_orn, id_pn in zip(dfw[mask].bodyId_pre, dfw[mask].bodyId_post):\n",
    "    print('hi')\n",
    "    print(dfn.query(f'bodyId == {id_orn}').instance)\n",
    "    print(dfn.query(f'bodyId == {id_pn}').instance)\n"
   ],
   "metadata": {
    "collapsed": false,
    "pycharm": {
     "name": "#%%\n"
    }
   }
  },
  {
   "cell_type": "markdown",
   "metadata": {
    "pycharm": {
     "name": "#%% md\n"
    }
   },
   "source": [
    "Recurrent connections between KCs are extensive???"
   ]
  },
  {
   "cell_type": "code",
   "execution_count": 19,
   "metadata": {
    "pycharm": {
     "name": "#%%\n"
    }
   },
   "outputs": [
    {
     "name": "stdout",
     "output_type": "stream",
     "text": [
      "Average number of recurrent connections per KC: 175.7155486219449\n"
     ]
    }
   ],
   "source": [
    "mask1 = np.isin(dfw.bodyId_pre, kc_id)\n",
    "mask2 = np.isin(dfw.bodyId_post, kc_id)\n",
    "mask = np.all([mask1, mask2], axis=0)\n",
    "print(f'Average number of recurrent connections per KC: '\n",
    "      f'{np.sum(mask) / len(dfw[mask].bodyId_pre.unique())}')\n"
   ]
  },
  {
   "cell_type": "markdown",
   "metadata": {
    "pycharm": {
     "name": "#%% md\n"
    }
   },
   "source": [
    "Connections from biglo and multiglomerular PNs to KCs are negligible"
   ]
  },
  {
   "cell_type": "code",
   "execution_count": 20,
   "metadata": {
    "pycharm": {
     "name": "#%%\n"
    }
   },
   "outputs": [
    {
     "name": "stdout",
     "output_type": "stream",
     "text": [
      "Average number of biglo connections to each KC: 0.0\n",
      "Average number of multiglo connections to each KC: 0.14716588663546543\n"
     ]
    }
   ],
   "source": [
    "mask1 = np.isin(dfw.bodyId_pre, biglo_id)\n",
    "mask2 = np.isin(dfw.bodyId_post, kc_id)\n",
    "mask = np.all([mask1, mask2], axis=0)\n",
    "print(f'Average number of biglo connections to each KC: '\n",
    "      f'{np.sum(mask) / len(kc_id)}')\n",
    "\n",
    "mask1 = np.isin(dfw.bodyId_pre, multiglo_id)\n",
    "mask2 = np.isin(dfw.bodyId_post, kc_id)\n",
    "mask = np.all([mask1, mask2], axis=0)\n",
    "print(f'Average number of multiglo connections to each KC: '\n",
    "      f'{np.sum(mask) / len(kc_id)}')"
   ]
  },
  {
   "cell_type": "markdown",
   "metadata": {
    "pycharm": {
     "name": "#%% md\n"
    }
   },
   "source": [
    "Connections from uniglo PNs to KCs are around ~6"
   ]
  },
  {
   "cell_type": "code",
   "execution_count": 21,
   "metadata": {
    "pycharm": {
     "name": "#%%\n"
    }
   },
   "outputs": [
    {
     "name": "stdout",
     "output_type": "stream",
     "text": [
      "Average number of uniglo connections to each KC: 5.8335933437337495\n"
     ]
    }
   ],
   "source": [
    "mask1 = np.isin(dfw.bodyId_pre, uniglo_id)\n",
    "mask2 = np.isin(dfw.bodyId_post, kc_id)\n",
    "mask = np.all([mask1, mask2], axis=0)\n",
    "print(f'Average number of uniglo connections to each KC: '\n",
    "      f'{np.sum(mask) / len(kc_id)}')"
   ]
  },
  {
   "cell_type": "markdown",
   "source": [
    "On the other hand, connections from mPNs to LH is extensive"
   ],
   "metadata": {
    "collapsed": false,
    "pycharm": {
     "name": "#%% md\n"
    }
   }
  },
  {
   "cell_type": "code",
   "execution_count": 22,
   "outputs": [
    {
     "name": "stdout",
     "output_type": "stream",
     "text": [
      "Average number of mglo connections to each LH: 0.07384295371814872\n"
     ]
    }
   ],
   "source": [
    "mask1 = np.isin(dfw.bodyId_pre, multiglo_id)\n",
    "mask2 = np.isin(dfw.bodyId_post, lh_id)\n",
    "mask = np.all([mask1, mask2], axis=0)\n",
    "print(f'Average number of mglo connections to each LH: '\n",
    "      f'{np.sum(mask) / len(kc_id)}')\n"
   ],
   "metadata": {
    "collapsed": false,
    "pycharm": {
     "name": "#%%\n"
    }
   }
  },
  {
   "cell_type": "markdown",
   "metadata": {
    "pycharm": {
     "name": "#%% md\n"
    }
   },
   "source": [
    "Distribution of K"
   ]
  },
  {
   "cell_type": "code",
   "execution_count": 23,
   "metadata": {
    "pycharm": {
     "name": "#%%\n"
    }
   },
   "outputs": [
    {
     "data": {
      "text/plain": "<Figure size 288x216 with 1 Axes>",
      "image/png": "[encoded data removed]"
     },
     "metadata": {
      "needs_background": "light"
     },
     "output_type": "display_data"
    },
    {
     "name": "stdout",
     "output_type": "stream",
     "text": [
      "Figure saved at: C:\\Users\\Peter\\PycharmProjects\\olfaction_evolution\\_hemibrain\\figures\\K\n"
     ]
    }
   ],
   "source": [
    "mask1 = np.isin(dfw.bodyId_pre, uniglo_id)\n",
    "mask2 = np.isin(dfw.bodyId_post, kc_id)\n",
    "mask = np.all([mask1, mask2], axis=0)\n",
    "pn2kc = dfw[mask]\n",
    "\n",
    "kc_stats = pn2kc.groupby(['bodyId_post']).count()\n",
    "input_degree = kc_stats['bodyId_pre']\n",
    "\n",
    "f, ax = pretty_fig(figsize=[4, 3])\n",
    "plt.hist(input_degree, range=[0, 50], bins=50, density=True)\n",
    "plt.xticks([0, 5, 15, 25, 50]);\n",
    "plt.xlabel('PN Inputs per KC')\n",
    "plt.ylabel('Fraction of KCs')\n",
    "plt.yticks([0, 0.25])\n",
    "plt.ylim([0, 0.25])\n",
    "\n",
    "save_fig(figure_path, 'K')\n",
    "np.save(os.path.join(hemibrain_path, 'K'),\n",
    "        input_degree.to_numpy())"
   ]
  },
  {
   "cell_type": "markdown",
   "source": [
    "Distribution of PN2KC weights"
   ],
   "metadata": {
    "collapsed": false,
    "pycharm": {
     "name": "#%% md\n"
    }
   }
  },
  {
   "cell_type": "code",
   "execution_count": 24,
   "outputs": [
    {
     "data": {
      "text/plain": "<Figure size 288x216 with 1 Axes>",
      "image/png": "[encoded data removed]"
     },
     "metadata": {
      "needs_background": "light"
     },
     "output_type": "display_data"
    },
    {
     "name": "stdout",
     "output_type": "stream",
     "text": [
      "Figure saved at: C:\\Users\\Peter\\PycharmProjects\\olfaction_evolution\\_hemibrain\\figures\\PN2KC_weight\n"
     ]
    }
   ],
   "source": [
    "mask1 = np.isin(dfw.bodyId_pre, uniglo_id)\n",
    "mask2 = np.isin(dfw.bodyId_post, kc_id)\n",
    "mask = np.all([mask1, mask2], axis=0)\n",
    "pn2kc = dfw[mask]\n",
    "\n",
    "pn2kc_weights = pn2kc.weight.to_numpy()\n",
    "\n",
    "f, ax = pretty_fig(figsize=[4, 3])\n",
    "plt.hist(pn2kc_weights, range=[0, 60], bins=60, density=True)\n",
    "plt.xticks(np.arange(0, 61, 20));\n",
    "plt.xlabel('PN to KC Weight')\n",
    "plt.ylabel('Fraction of Non-zero Conn.')\n",
    "plt.yticks([0, 0.15])\n",
    "plt.ylim([0, 0.15])\n",
    "\n",
    "save_fig(figure_path, 'PN2KC_weight')\n",
    "np.save(os.path.join(hemibrain_path, 'PN2KC_weight'),\n",
    "        pn2kc_weights)\n"
   ],
   "metadata": {
    "collapsed": false,
    "pycharm": {
     "name": "#%%\n"
    }
   }
  },
  {
   "cell_type": "markdown",
   "metadata": {
    "pycharm": {
     "name": "#%% md\n"
    }
   },
   "source": [
    "Distribution of output connections per PN is most definitely not equal between\n",
    " different glomeruli"
   ]
  },
  {
   "cell_type": "code",
   "execution_count": 25,
   "metadata": {
    "pycharm": {
     "name": "#%%\n"
    }
   },
   "outputs": [
    {
     "data": {
      "text/plain": "Text(0.5, 1.0, 'Number of output connections per glomerulus (sorted by count)')"
     },
     "execution_count": 25,
     "metadata": {},
     "output_type": "execute_result"
    },
    {
     "data": {
      "text/plain": "<Figure size 1440x720 with 1 Axes>",
      "image/png": "[encoded data removed]"
     },
     "metadata": {
      "needs_background": "light"
     },
     "output_type": "display_data"
    }
   ],
   "source": [
    "mask1 = np.isin(dfw.bodyId_pre, uniglo_id)\n",
    "mask2 = np.isin(dfw.bodyId_post, kc_id)\n",
    "mask = np.all([mask1, mask2], axis=0)\n",
    "pn2kc = dfw[mask]\n",
    "\n",
    "uniglos = uniglos.sort_values(by='instance')\n",
    "id_to_glo = dict(zip(uniglos['bodyId'], uniglos['instance']))\n",
    "glos = pn2kc.bodyId_pre.map(id_to_glo)\n",
    "a = glos.value_counts()\n",
    "\n",
    "\n",
    "f = plt.figure(figsize=(20, 10))\n",
    "ax = plt.gca()\n",
    "a.plot(kind='bar', ax=ax)\n",
    "plt.title('Number of output connections per glomerulus (sorted by count)')\n"
   ]
  },
  {
   "cell_type": "code",
   "execution_count": 26,
   "metadata": {
    "pycharm": {
     "name": "#%%\n"
    }
   },
   "outputs": [
    {
     "data": {
      "text/plain": "Text(0.5, 1.0, 'Number of output connections per glomerulus (sorted by name)')"
     },
     "execution_count": 26,
     "metadata": {},
     "output_type": "execute_result"
    },
    {
     "data": {
      "text/plain": "<Figure size 1440x720 with 1 Axes>",
      "image/png": "[encoded data removed]"
     },
     "metadata": {
      "needs_background": "light"
     },
     "output_type": "display_data"
    }
   ],
   "source": [
    "b = a.sort_index()\n",
    "f = plt.figure(figsize=(20, 10))\n",
    "ax = plt.gca()\n",
    "b.plot(kind='bar', ax=ax)\n",
    "plt.title('Number of output connections per glomerulus (sorted by name)')"
   ]
  },
  {
   "cell_type": "code",
   "execution_count": null,
   "outputs": [],
   "source": [],
   "metadata": {
    "collapsed": false,
    "pycharm": {
     "name": "#%%\n"
    }
   }
  }
 ],
 "metadata": {
  "kernelspec": {
   "display_name": "Python 3",
   "language": "python",
   "name": "python3"
  },
  "language_info": {
   "codemirror_mode": {
    "name": "ipython",
    "version": 3
   },
   "file_extension": ".py",
   "mimetype": "text/x-python",
   "name": "python",
   "nbconvert_exporter": "python",
   "pygments_lexer": "ipython3",
   "version": "3.6.12"
  }
 },
 "nbformat": 4,
 "nbformat_minor": 1
}