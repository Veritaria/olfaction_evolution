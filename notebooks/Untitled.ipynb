{
 "cells": [
  {
   "cell_type": "code",
   "execution_count": 1,
   "metadata": {},
   "outputs": [],
   "source": [
    "import matplotlib.pyplot as plt"
   ]
  },
  {
   "cell_type": "code",
   "execution_count": 2,
   "metadata": {},
   "outputs": [],
   "source": [
    "import pickle\n",
    "import numpy as np\n",
    "import tools\n",
    "from pylab import *\n",
    "import matplotlib.animation as animation\n",
    "import matplotlib as mpl"
   ]
  },
  {
   "cell_type": "code",
   "execution_count": 3,
   "metadata": {},
   "outputs": [
    {
     "name": "stderr",
     "output_type": "stream",
     "text": [
      "C:\\Users\\Peter\\Anaconda3\\lib\\site-packages\\h5py\\__init__.py:36: FutureWarning: Conversion of the second argument of issubdtype from `float` to `np.floating` is deprecated. In future, it will be treated as `np.float64 == np.dtype(float).type`.\n",
      "  from ._conv import register_converters as _register_converters\n"
     ]
    }
   ],
   "source": [
    "import numpy as np\n",
    "import os\n",
    "import standard.analysis as sa\n",
    "import tools\n",
    "import matplotlib.pyplot as plt\n",
    "import task\n",
    "import tensorflow as tf\n",
    "from model import FullModel"
   ]
  },
  {
   "cell_type": "code",
   "execution_count": 4,
   "metadata": {},
   "outputs": [],
   "source": [
    "%matplotlib inline "
   ]
  },
  {
   "cell_type": "code",
   "execution_count": 5,
   "metadata": {},
   "outputs": [],
   "source": [
    "mpl.rcParams['font.size'] = 15\n",
    "mpl.rcParams['pdf.fonttype'] = 42\n",
    "mpl.rcParams['ps.fonttype'] = 42\n",
    "mpl.rcParams['font.family'] = 'arial'"
   ]
  },
  {
   "cell_type": "code",
   "execution_count": 129,
   "metadata": {},
   "outputs": [
    {
     "name": "stdout",
     "output_type": "stream",
     "text": [
      "['files/cluster_10_pn_untrainable_bias/cluster_10_pn_untrainable_bias50\\\\000000', 'files/cluster_10_pn_untrainable_bias/cluster_10_pn_untrainable_bias50\\\\000001', 'files/cluster_10_pn_untrainable_bias/cluster_10_pn_untrainable_bias50\\\\000002', 'files/cluster_10_pn_untrainable_bias/cluster_10_pn_untrainable_bias50\\\\000003', 'files/cluster_10_pn_untrainable_bias/cluster_10_pn_untrainable_bias50\\\\000004', 'files/cluster_10_pn_untrainable_bias/cluster_10_pn_untrainable_bias50\\\\000005', 'files/cluster_10_pn_untrainable_bias/cluster_10_pn_untrainable_bias50\\\\000006', 'files/cluster_10_pn_untrainable_bias/cluster_10_pn_untrainable_bias50\\\\000007', 'files/cluster_10_pn_untrainable_bias/cluster_10_pn_untrainable_bias50\\\\000008', 'files/cluster_10_pn_untrainable_bias/cluster_10_pn_untrainable_bias50\\\\000009', 'files/cluster_10_pn_untrainable_bias/cluster_10_pn_untrainable_bias50\\\\000010', 'files/cluster_10_pn_untrainable_bias/cluster_10_pn_untrainable_bias50\\\\000011', 'files/cluster_10_pn_untrainable_bias/cluster_10_pn_untrainable_bias50\\\\000012', 'files/cluster_10_pn_untrainable_bias/cluster_10_pn_untrainable_bias50\\\\000013', 'files/cluster_10_pn_untrainable_bias/cluster_10_pn_untrainable_bias50\\\\000014', 'files/cluster_10_pn_untrainable_bias/cluster_10_pn_untrainable_bias50\\\\000015', 'files/cluster_10_pn_untrainable_bias/cluster_10_pn_untrainable_bias50\\\\000016', 'files/cluster_10_pn_untrainable_bias/cluster_10_pn_untrainable_bias50\\\\000017', 'files/cluster_10_pn_untrainable_bias/cluster_10_pn_untrainable_bias50\\\\000018', 'files/cluster_10_pn_untrainable_bias/cluster_10_pn_untrainable_bias50\\\\000019', 'files/cluster_10_pn_untrainable_bias/cluster_10_pn_untrainable_bias50\\\\000020', 'files/cluster_10_pn_untrainable_bias/cluster_10_pn_untrainable_bias50\\\\000021', 'files/cluster_10_pn_untrainable_bias/cluster_10_pn_untrainable_bias50\\\\000022', 'files/cluster_10_pn_untrainable_bias/cluster_10_pn_untrainable_bias50\\\\000023']\n"
     ]
    }
   ],
   "source": [
    "path = 'files/cluster_10_pn_untrainable_bias/cluster_10_pn_untrainable_bias50'\n",
    "x = tools.load_all_results(path, argLast=True)\n",
    "\n",
    "sparsity = np.array([y.mean() for y in x['sparsity']])\n",
    "badKC = np.array([np.sum(y == 0)/y.size for y in x['sparsity']])\n",
    "accuracy = x['train_acc']\n",
    "histogram = x['log_hist']\n",
    "linehist = x['hist']\n",
    "threshold = x['thres']\n",
    "lrs = x['lr']\n",
    "nkcs = x['N_KC']\n",
    "loss = x['train_loss']\n",
    "logloss = np.log(loss)"
   ]
  },
  {
   "cell_type": "code",
   "execution_count": 130,
   "metadata": {},
   "outputs": [],
   "source": [
    "wglos = tools.load_pickle(path, 'w_glo')"
   ]
  },
  {
   "cell_type": "code",
   "execution_count": 131,
   "metadata": {},
   "outputs": [
    {
     "data": {
      "text/plain": [
       "(50, 20000)"
      ]
     },
     "execution_count": 131,
     "metadata": {},
     "output_type": "execute_result"
    }
   ],
   "source": [
    "wglos[15].shape"
   ]
  },
  {
   "cell_type": "code",
   "execution_count": 132,
   "metadata": {},
   "outputs": [
    {
     "data": {
      "text/plain": [
       "<matplotlib.image.AxesImage at 0x1f8b490e0f0>"
      ]
     },
     "execution_count": 132,
     "metadata": {},
     "output_type": "execute_result"
    },
    {
     "data": {
      "image/png": "[encoded data removed]",
      "text/plain": [
       "<Figure size 1440x720 with 1 Axes>"
      ]
     },
     "metadata": {
      "needs_background": "light"
     },
     "output_type": "display_data"
    }
   ],
   "source": [
    "plt.figure(figsize=(20,10))\n",
    "plt.imshow(wglos[21][:,:20], vmin=0, vmax = .5)"
   ]
  },
  {
   "cell_type": "code",
   "execution_count": 133,
   "metadata": {},
   "outputs": [],
   "source": [
    "ind = np.logical_and(accuracy > .55, badKC < .05)"
   ]
  },
  {
   "cell_type": "code",
   "execution_count": 134,
   "metadata": {},
   "outputs": [
    {
     "data": {
      "text/plain": [
       "array([0.578125  , 0.63671875, 0.4296875 , 0.07421875, 0.65625   ,\n",
       "       0.75      , 0.69140625, 0.72265625, 0.7265625 , 0.78125   ,\n",
       "       0.82421875, 0.88671875, 0.7265625 , 0.80078125, 0.83203125,\n",
       "       0.85546875, 0.69921875, 0.78125   , 0.88671875, 0.8515625 ,\n",
       "       0.6875    , 0.76171875, 0.7265625 , 0.69921875], dtype=float32)"
      ]
     },
     "execution_count": 134,
     "metadata": {},
     "output_type": "execute_result"
    }
   ],
   "source": [
    "accuracy"
   ]
  },
  {
   "cell_type": "code",
   "execution_count": 135,
   "metadata": {},
   "outputs": [
    {
     "data": {
      "text/plain": [
       "(24, 200)"
      ]
     },
     "execution_count": 135,
     "metadata": {},
     "output_type": "execute_result"
    }
   ],
   "source": [
    "histogram.shape"
   ]
  },
  {
   "cell_type": "code",
   "execution_count": 136,
   "metadata": {},
   "outputs": [],
   "source": [
    "sparsity_ = sparsity[ind]\n",
    "badKC_ = badKC[ind]\n",
    "accuracy_ = accuracy[ind]\n",
    "threshold_ = threshold[ind]\n",
    "lrs_ = lrs[ind]\n",
    "nkcs_ = nkcs[ind]\n",
    "\n",
    "w_bins = (np.linspace(-20, 5, 201))[:-1]"
   ]
  },
  {
   "cell_type": "code",
   "execution_count": null,
   "metadata": {},
   "outputs": [],
   "source": []
  },
  {
   "cell_type": "code",
   "execution_count": 137,
   "metadata": {},
   "outputs": [
    {
     "data": {
      "text/plain": [
       "<matplotlib.collections.PathCollection at 0x1f8b4a84898>"
      ]
     },
     "execution_count": 137,
     "metadata": {},
     "output_type": "execute_result"
    },
    {
     "data": {
      "image/png": "[encoded data removed]",
      "text/plain": [
       "<Figure size 432x288 with 1 Axes>"
      ]
     },
     "metadata": {
      "needs_background": "light"
     },
     "output_type": "display_data"
    }
   ],
   "source": [
    "plt.scatter(threshold_, sparsity_)"
   ]
  },
  {
   "cell_type": "code",
   "execution_count": 138,
   "metadata": {},
   "outputs": [
    {
     "data": {
      "text/plain": [
       "array([ 5.2924 ,  5.4436 ,  4.421  ,  4.01305,  7.2956 ,  8.2018 ,\n",
       "        9.2325 ,  9.07365,  9.5536 , 10.4142 , 11.4874 , 12.5444 ,\n",
       "       12.6084 , 13.842  , 15.2431 , 17.07655, 17.342  , 19.0778 ,\n",
       "       22.8056 , 29.24785])"
      ]
     },
     "execution_count": 138,
     "metadata": {},
     "output_type": "execute_result"
    }
   ],
   "source": [
    "sparsity_"
   ]
  },
  {
   "cell_type": "code",
   "execution_count": 139,
   "metadata": {},
   "outputs": [
    {
     "data": {
      "text/plain": [
       "array([1.e-03, 1.e-03, 1.e-03, 1.e-03, 3.e-04, 3.e-04, 3.e-04, 3.e-04,\n",
       "       1.e-04, 1.e-04, 1.e-04, 1.e-04, 3.e-05, 3.e-05, 3.e-05, 3.e-05,\n",
       "       1.e-05, 1.e-05, 1.e-05, 1.e-05])"
      ]
     },
     "execution_count": 139,
     "metadata": {},
     "output_type": "execute_result"
    }
   ],
   "source": [
    "lrs_"
   ]
  },
  {
   "cell_type": "code",
   "execution_count": 140,
   "metadata": {},
   "outputs": [
    {
     "data": {
      "text/plain": [
       "array([ 2500,  5000, 10000, 20000,  2500,  5000, 10000, 20000,  2500,\n",
       "        5000, 10000, 20000,  2500,  5000, 10000, 20000,  2500,  5000,\n",
       "       10000, 20000])"
      ]
     },
     "execution_count": 140,
     "metadata": {},
     "output_type": "execute_result"
    }
   ],
   "source": [
    "nkcs_"
   ]
  },
  {
   "cell_type": "code",
   "execution_count": 141,
   "metadata": {},
   "outputs": [
    {
     "data": {
      "text/plain": [
       "(0, 500000.0)"
      ]
     },
     "execution_count": 141,
     "metadata": {},
     "output_type": "execute_result"
    },
    {
     "data": {
      "image/png": "[encoded data removed]",
      "text/plain": [
       "<Figure size 432x288 with 1 Axes>"
      ]
     },
     "metadata": {
      "needs_background": "light"
     },
     "output_type": "display_data"
    }
   ],
   "source": [
    "plt.hist(wglos[15].flatten(), bins=20)\n",
    "plt.ylim([0, 5e5])"
   ]
  },
  {
   "cell_type": "code",
   "execution_count": 48,
   "metadata": {},
   "outputs": [
    {
     "data": {
      "text/plain": [
       "array([3.e-03, 3.e-03, 3.e-03, 3.e-03, 1.e-03, 1.e-03, 1.e-03, 1.e-03,\n",
       "       3.e-04, 3.e-04, 3.e-04, 3.e-04, 1.e-04, 1.e-04, 1.e-04, 1.e-04,\n",
       "       3.e-05, 3.e-05, 3.e-05, 3.e-05, 1.e-05, 1.e-05, 1.e-05, 1.e-05])"
      ]
     },
     "execution_count": 48,
     "metadata": {},
     "output_type": "execute_result"
    }
   ],
   "source": [
    "lrs"
   ]
  },
  {
   "cell_type": "code",
   "execution_count": 49,
   "metadata": {},
   "outputs": [
    {
     "data": {
      "text/plain": [
       "array([ 2500,  5000, 10000, 20000,  2500,  5000, 10000, 20000,  2500,\n",
       "        5000, 10000, 20000,  2500,  5000, 10000, 20000,  2500,  5000,\n",
       "       10000, 20000,  2500,  5000, 10000, 20000])"
      ]
     },
     "execution_count": 49,
     "metadata": {},
     "output_type": "execute_result"
    }
   ],
   "source": [
    "nkcs"
   ]
  },
  {
   "cell_type": "code",
   "execution_count": 50,
   "metadata": {},
   "outputs": [
    {
     "data": {
      "text/plain": [
       "(array([10, 12, 13, 14, 15, 16, 17, 18, 19, 21, 22, 23], dtype=int64),)"
      ]
     },
     "execution_count": 50,
     "metadata": {},
     "output_type": "execute_result"
    }
   ],
   "source": [
    "np.where(ind)"
   ]
  },
  {
   "cell_type": "code",
   "execution_count": 51,
   "metadata": {},
   "outputs": [
    {
     "data": {
      "text/plain": [
       "array([ 1.3925363 ,  1.4170959 ,  1.4215194 ,  1.4545724 ,  1.0123228 ,\n",
       "        0.9598171 ,  0.9239714 ,  1.2785659 ,  0.62980026,  0.4576312 ,\n",
       "        0.34019992,  0.33074436,  0.40044397,  0.16942056, -0.03840227,\n",
       "       -0.12493706,  0.3068477 ,  0.13033995, -0.15852971, -0.44243953,\n",
       "        0.48894057,  0.12339605, -0.1459016 , -0.48008657], dtype=float32)"
      ]
     },
     "execution_count": 51,
     "metadata": {},
     "output_type": "execute_result"
    }
   ],
   "source": [
    "logloss"
   ]
  },
  {
   "cell_type": "code",
   "execution_count": 52,
   "metadata": {},
   "outputs": [
    {
     "data": {
      "text/plain": [
       "array([ 3.5348 , 29.7736 , 21.7536 , 16.7603 , 13.48965, 53.9668 ,\n",
       "       47.999  , 45.8585 , 44.2981 , 65.5406 , 70.5083 , 77.4235 ])"
      ]
     },
     "execution_count": 52,
     "metadata": {},
     "output_type": "execute_result"
    }
   ],
   "source": [
    "sparsity_"
   ]
  },
  {
   "cell_type": "code",
   "execution_count": 24,
   "metadata": {},
   "outputs": [
    {
     "data": {
      "text/plain": [
       "array([0.0703125 , 0.0859375 , 0.06640625, 0.0546875 , 0.296875  ,\n",
       "       0.29296875, 0.35546875, 0.1328125 , 0.4453125 , 0.52734375,\n",
       "       0.55859375, 0.6015625 , 0.5625    , 0.61328125, 0.640625  ,\n",
       "       0.68359375, 0.6015625 , 0.625     , 0.71484375, 0.7734375 ,\n",
       "       0.53515625, 0.6640625 , 0.71875   , 0.8203125 ], dtype=float32)"
      ]
     },
     "execution_count": 24,
     "metadata": {},
     "output_type": "execute_result"
    }
   ],
   "source": [
    "accuracy"
   ]
  },
  {
   "cell_type": "code",
   "execution_count": 25,
   "metadata": {},
   "outputs": [
    {
     "data": {
      "text/plain": [
       "array([3.e-04, 1.e-04, 1.e-04, 1.e-04, 1.e-04, 3.e-05, 3.e-05, 3.e-05,\n",
       "       3.e-05, 1.e-05, 1.e-05, 1.e-05])"
      ]
     },
     "execution_count": 25,
     "metadata": {},
     "output_type": "execute_result"
    }
   ],
   "source": [
    "lrs_"
   ]
  },
  {
   "cell_type": "code",
   "execution_count": 26,
   "metadata": {},
   "outputs": [
    {
     "data": {
      "text/plain": [
       "array([10000,  2500,  5000, 10000, 20000,  2500,  5000, 10000, 20000,\n",
       "        5000, 10000, 20000])"
      ]
     },
     "execution_count": 26,
     "metadata": {},
     "output_type": "execute_result"
    }
   ],
   "source": [
    "nkcs_"
   ]
  },
  {
   "cell_type": "code",
   "execution_count": 27,
   "metadata": {},
   "outputs": [
    {
     "data": {
      "text/plain": [
       "array([0.079, 0.016, 0.02 , 0.025, 0.031, 0.006, 0.008, 0.009, 0.01 ,\n",
       "       0.003, 0.004, 0.004])"
      ]
     },
     "execution_count": 27,
     "metadata": {},
     "output_type": "execute_result"
    }
   ],
   "source": [
    "np.round(threshold_,3)"
   ]
  },
  {
   "cell_type": "code",
   "execution_count": 28,
   "metadata": {},
   "outputs": [
    {
     "data": {
      "text/plain": [
       "5.1544"
      ]
     },
     "execution_count": 28,
     "metadata": {},
     "output_type": "execute_result"
    }
   ],
   "source": [
    "np.sum(wglos[9] > .05, axis=0).mean()"
   ]
  },
  {
   "cell_type": "code",
   "execution_count": 29,
   "metadata": {},
   "outputs": [
    {
     "data": {
      "text/plain": [
       "array([ 4., 30., 22., 17., 13., 54., 48., 46., 44., 66., 71., 77.])"
      ]
     },
     "execution_count": 29,
     "metadata": {},
     "output_type": "execute_result"
    }
   ],
   "source": [
    "np.round(sparsity_)"
   ]
  },
  {
   "cell_type": "code",
   "execution_count": 30,
   "metadata": {},
   "outputs": [
    {
     "data": {
      "text/plain": [
       "array([0.07885965, 0.01585151, 0.02002488, 0.02460159, 0.0313736 ,\n",
       "       0.00623665, 0.00777555, 0.00874807, 0.01046166, 0.00317188,\n",
       "       0.00358633, 0.00376597])"
      ]
     },
     "execution_count": 30,
     "metadata": {},
     "output_type": "execute_result"
    }
   ],
   "source": [
    "threshold_"
   ]
  },
  {
   "cell_type": "code",
   "execution_count": 31,
   "metadata": {},
   "outputs": [
    {
     "data": {
      "text/plain": [
       "array([0.55859375, 0.5625    , 0.61328125, 0.640625  , 0.68359375,\n",
       "       0.6015625 , 0.625     , 0.71484375, 0.7734375 , 0.6640625 ,\n",
       "       0.71875   , 0.8203125 ], dtype=float32)"
      ]
     },
     "execution_count": 31,
     "metadata": {},
     "output_type": "execute_result"
    }
   ],
   "source": [
    "accuracy_"
   ]
  },
  {
   "cell_type": "code",
   "execution_count": 32,
   "metadata": {},
   "outputs": [
    {
     "data": {
      "text/plain": [
       "array([False, False, False, False, False, False, False, False, False,\n",
       "       False,  True, False,  True,  True,  True,  True,  True,  True,\n",
       "        True,  True, False,  True,  True,  True])"
      ]
     },
     "execution_count": 32,
     "metadata": {},
     "output_type": "execute_result"
    }
   ],
   "source": [
    "ind"
   ]
  },
  {
   "cell_type": "code",
   "execution_count": 33,
   "metadata": {},
   "outputs": [
    {
     "data": {
      "text/plain": [
       "array([ 2500,  5000, 10000, 20000,  2500,  5000, 10000, 20000,  2500,\n",
       "        5000, 10000, 20000,  2500,  5000, 10000, 20000,  2500,  5000,\n",
       "       10000, 20000,  2500,  5000, 10000, 20000])"
      ]
     },
     "execution_count": 33,
     "metadata": {},
     "output_type": "execute_result"
    }
   ],
   "source": [
    "nkcs"
   ]
  },
  {
   "cell_type": "code",
   "execution_count": 34,
   "metadata": {},
   "outputs": [
    {
     "data": {
      "text/plain": [
       "array([3.e-03, 3.e-03, 3.e-03, 3.e-03, 1.e-03, 1.e-03, 1.e-03, 1.e-03,\n",
       "       3.e-04, 3.e-04, 3.e-04, 3.e-04, 1.e-04, 1.e-04, 1.e-04, 1.e-04,\n",
       "       3.e-05, 3.e-05, 3.e-05, 3.e-05, 1.e-05, 1.e-05, 1.e-05, 1.e-05])"
      ]
     },
     "execution_count": 34,
     "metadata": {},
     "output_type": "execute_result"
    }
   ],
   "source": [
    "lrs"
   ]
  },
  {
   "cell_type": "code",
   "execution_count": 35,
   "metadata": {},
   "outputs": [
    {
     "data": {
      "text/plain": [
       "([<matplotlib.axis.YTick at 0x1f8b45574a8>,\n",
       "  <matplotlib.axis.YTick at 0x1f8b4551da0>,\n",
       "  <matplotlib.axis.YTick at 0x1f8b4549dd8>,\n",
       "  <matplotlib.axis.YTick at 0x1f8b45b1b00>,\n",
       "  <matplotlib.axis.YTick at 0x1f8b45b1d30>,\n",
       "  <matplotlib.axis.YTick at 0x1f8b45bc4e0>],\n",
       " <a list of 6 Text yticklabel objects>)"
      ]
     },
     "execution_count": 35,
     "metadata": {},
     "output_type": "execute_result"
    },
    {
     "data": {
      "image/png": "[encoded data removed]",
      "text/plain": [
       "<Figure size 432x288 with 2 Axes>"
      ]
     },
     "metadata": {
      "needs_background": "light"
     },
     "output_type": "display_data"
    }
   ],
   "source": [
    "scat = plt.scatter(np.log(nkcs), np.log(lrs), c=accuracy, s=200, vmin=.2, vmax=1)\n",
    "plt.colorbar(scat)\n",
    "plt.xticks(np.unique(np.log(nkcs)), np.unique(nkcs))\n",
    "plt.yticks(np.unique(np.log(lrs)), np.unique(lrs))"
   ]
  },
  {
   "cell_type": "code",
   "execution_count": null,
   "metadata": {},
   "outputs": [],
   "source": []
  }
 ],
 "metadata": {
  "kernelspec": {
   "display_name": "Python 3",
   "language": "python",
   "name": "python3"
  },
  "language_info": {
   "codemirror_mode": {
    "name": "ipython",
    "version": 3
   },
   "file_extension": ".py",
   "mimetype": "text/x-python",
   "name": "python",
   "nbconvert_exporter": "python",
   "pygments_lexer": "ipython3",
   "version": "3.6.4"
  }
 },
 "nbformat": 4,
 "nbformat_minor": 2
}
